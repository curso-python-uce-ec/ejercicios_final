{
  "cells": [
    {
      "cell_type": "markdown",
      "metadata": {
        "id": "65A9HF0uapQ3"
      },
      "source": [
        "# EJERCICIOS EXTRA\n",
        "## Extra 1 "
      ]
    },
    {
      "cell_type": "code",
      "execution_count": null,
      "metadata": {
        "id": "J6hxMcQT6OjI",
        "colab": {
          "base_uri": "https://localhost:8080/"
        },
        "outputId": "057cdc2d-cc73-4edc-ebc3-ff6b6707721e"
      },
      "outputs": [
        {
          "output_type": "stream",
          "name": "stdout",
          "text": [
            "ecabd\n"
          ]
        }
      ],
      "source": [
        "# La siguiente función debe aceptar un argumento: una cadena.\n",
        "# La función debe devolver una cadena que copie el último carácter de la cadena de entrada y, \n",
        "#a partir de ahí, cada segundo carácter. Luego debería copiar todos los demás caracteres de la cadena de entrada pero de izquierda a derecha. \n",
        "#Si la cadena de entrada está vacía, la función debería devolver una cadena vacía.\n",
        "\n",
        "# POR EJEMPLO al llamar la fucnion : \n",
        "# main('abcde') \n",
        "# debe resultar en 'ecabd' \n",
        "\n",
        "def main(string_1):\n",
        "    for i in range(2):\n",
        "      if(i==0):\n",
        "        string_2=string_1[len(string_1)-i::-2]\n",
        "      else:\n",
        "        if (len(string_1)%2==0):\n",
        "          string_2=string_2+string_1[0::2]\n",
        "        else:\n",
        "          string_2=string_2+string_1[1::2]\n",
        "    return(string_2)\n",
        "print(main(\"abcde\"))"
      ]
    },
    {
      "cell_type": "code",
      "execution_count": 42,
      "metadata": {
        "id": "2U4_XpzrBX5i",
        "colab": {
          "base_uri": "https://localhost:8080/"
        },
        "outputId": "8a9b4ac6-716b-4707-96ad-3bda781d74a2"
      },
      "outputs": [
        {
          "output_type": "execute_result",
          "data": {
            "text/plain": [
              "1"
            ]
          },
          "metadata": {},
          "execution_count": 42
        }
      ],
      "source": [
        "# La siguiente función debe aceptar un argumento: una tupla.\n",
        "\n",
        "# La función debe devolver un número entero con el valor absoluto de la diferencia del número\n",
        "# de tuplas y el número de listas dentro de la tupla.\n",
        "\n",
        "# Por ejemplo, la funcion: \n",
        "# main(('k', 'cheers', (8,7), [32.3,-1], (9,))) \n",
        "# debe dar 1\n",
        "\n",
        "def main(tuple_1):\n",
        "  t=0\n",
        "  l=0\n",
        "  for i in tuple_1:\n",
        "    if ( type(i) is tuple):\n",
        "      t +=1\n",
        "    elif (type(i) is list):\n",
        "      l +=1\n",
        "  r= abs(t-l)\n",
        "  return(r)\n",
        "main(('k', 'cheers', (8,7), [32.3,-1], (9,)))"
      ]
    },
    {
      "cell_type": "code",
      "execution_count": 23,
      "metadata": {
        "id": "hJ5_h_FQX8RY",
        "colab": {
          "base_uri": "https://localhost:8080/"
        },
        "outputId": "9aca87cd-5c55-42bb-e484-53d2bf3f8ad7"
      },
      "outputs": [
        {
          "output_type": "execute_result",
          "data": {
            "text/plain": [
              "5"
            ]
          },
          "metadata": {},
          "execution_count": 23
        }
      ],
      "source": [
        "# La siguiente función debe aceptar un argumento: un diccionario. Las claves son números enteros y\n",
        "# valores son listas\n",
        "\n",
        "# La función debe devolver el número total de todos los elementos en todas las listas combinadas,\n",
        "# excepto para las listas que tienen una key divisible por 3\n",
        "\n",
        "# Por ejemplo: \n",
        "# main({1: [1,2,3], 2: [1,2,3], 3: [1,2,3]})  \n",
        "# da 6 \n",
        "def main(dictionary_1):\n",
        "  r=0\n",
        "  for i in dictionary_1:\n",
        "    if( i%3==0 ):\n",
        "      r=r+0\n",
        "    else:\n",
        "      r=r+len(dictionary_1[i])\n",
        "  return(r)\n",
        "main({1: [1,2,3], 2: [1,2,3], 3: [1,2,3]})"
      ]
    },
    {
      "cell_type": "code",
      "execution_count": 28,
      "metadata": {
        "id": "FKhPvj3GYZ9v",
        "colab": {
          "base_uri": "https://localhost:8080/",
          "height": 35
        },
        "outputId": "ce2438b8-d697-4aa0-fba8-b4215ebae899"
      },
      "outputs": [
        {
          "output_type": "execute_result",
          "data": {
            "text/plain": [
              "'People are Funny.'"
            ],
            "application/vnd.google.colaboratory.intrinsic+json": {
              "type": "string"
            }
          },
          "metadata": {},
          "execution_count": 28
        }
      ],
      "source": [
        "# La siguiente función debería aceptar una lista de cadenas\n",
        "\n",
        "# La función debe devolver una cadena compuesta de todas las cadenas, pero entre cada cadena \n",
        "# debe ser un espacio. Excepto si la cadena es un solo !, ., o un ?\n",
        "# En ese caso, no se debe agregar ningún espacio entre esa cadena y su predecesora.\n",
        "\n",
        "# POr ejemplo: \n",
        "# main(['People', 'are', 'Funny', '.'])  \n",
        "# da como resultado 'People are Funny.' \n",
        "\n",
        "def main(list_1):\n",
        "  r=list_1[0]\n",
        "  for i in list_1[1:]:\n",
        "    if(i=='!'or i=='.' or i=='?'):\n",
        "      r=r+i\n",
        "    else:\n",
        "      r=r+\" \"+i\n",
        "  return(r)\n",
        "main(['People', 'are', 'Funny', '.'])"
      ]
    },
    {
      "cell_type": "markdown",
      "metadata": {
        "id": "sqVecFFLi3OO"
      },
      "source": [
        "## Extra 2\n"
      ]
    },
    {
      "cell_type": "code",
      "execution_count": 38,
      "metadata": {
        "id": "NIZJR0VGi4ps",
        "colab": {
          "base_uri": "https://localhost:8080/"
        },
        "outputId": "e932769f-e182-45ae-dce1-f9cf38502aa9"
      },
      "outputs": [
        {
          "output_type": "execute_result",
          "data": {
            "text/plain": [
              "[200, 400, 600, 800]"
            ]
          },
          "metadata": {},
          "execution_count": 38
        }
      ],
      "source": [
        "# La siguiente función debería aceptar cuatro argumentos: cuatro enteros\n",
        "\n",
        "# La función debe devolver una lista con todos los enteros entre el primero y\n",
        "# segundo entero (ambos inclusivo []) que son divisibles tanto por el 3er como por el 4to entero.\n",
        "\n",
        "# Por ejemplo: \n",
        "# main(100, 800, 100, 200) \n",
        "# Debe dar [200, 400, 600, 800]\n",
        "\n",
        "def main(integer_1, integer_2, integer_3, integer_4):\n",
        "  r = [i for i in range(integer_1, integer_2+1) if not (i % integer_3 or i % integer_4)]\n",
        "  return r\n",
        "main(100, 800, 100, 200)"
      ]
    },
    {
      "cell_type": "code",
      "execution_count": 68,
      "metadata": {
        "id": "dtu2-H95jgh0",
        "colab": {
          "base_uri": "https://localhost:8080/"
        },
        "outputId": "7534d094-068b-4902-b660-81168efaab8f"
      },
      "outputs": [
        {
          "output_type": "stream",
          "name": "stdout",
          "text": [
            "True\n"
          ]
        }
      ],
      "source": [
        "# La siguiente función debería aceptar como argumento una lista con 3 enteros como elementos\n",
        "\n",
        "# La función debería devolver True si exactamente un entero difiere de todos los demás enteros,\n",
        "# y falso en todos los demás casos.\n",
        "\n",
        "# Por ejemplo: \n",
        "# main([1, 1, 2]) \n",
        "# debe dar como resultado true \n",
        "\n",
        "def main(list_1):\n",
        "  c=0\n",
        "  r=0\n",
        "  n=len(list_1)-1\n",
        "  for i in range(len(list_1)+1):\n",
        "    if(c==len(list_1)-1):\n",
        "      r=1\n",
        "    c=0\n",
        "    if(i==len(list_1)):\n",
        "      break\n",
        "    for j in list_1:\n",
        "      if(list_1[i] is not j):\n",
        "        c+=1\n",
        "  if(r==1):\n",
        "    return True\n",
        "  else:\n",
        "    return False\n",
        "\n",
        "print(main([1, 1, 2]))"
      ]
    },
    {
      "cell_type": "code",
      "source": [
        "i=2\n",
        "j=4\n",
        "\n",
        "c=0\n",
        "if(i is not j):\n",
        "  c+=1\n",
        "print(c)"
      ],
      "metadata": {
        "colab": {
          "base_uri": "https://localhost:8080/"
        },
        "id": "QH5FKUJeZSV4",
        "outputId": "c8c2360c-835a-414b-d828-a43f714995fa"
      },
      "execution_count": 46,
      "outputs": [
        {
          "output_type": "stream",
          "name": "stdout",
          "text": [
            "1\n"
          ]
        }
      ]
    },
    {
      "cell_type": "code",
      "execution_count": 35,
      "metadata": {
        "id": "fqOe0O0ukR7M",
        "colab": {
          "base_uri": "https://localhost:8080/"
        },
        "outputId": "bb06e94e-0347-4690-85c6-44edd1219fae"
      },
      "outputs": [
        {
          "output_type": "stream",
          "name": "stdout",
          "text": [
            "enolaabaa\n"
          ]
        }
      ],
      "source": [
        "# La función a continuación debe aceptar dos argumentos, una cadena y una lista con caracteres individuales\n",
        "# La función debe devolver una cadena en orden inverso mientras duplica cualquier carácter en la lista\n",
        "\n",
        "# Por ejemplo:\n",
        "# main(\"abalone\", [\"a\",\"i\"]) \n",
        "# resulta en : \"enolaabaa\" \n",
        "\n",
        "def main(string_1, list_1):\n",
        "  r=\"\"\n",
        "  while string_1:\n",
        "    r=r+string_1[-1]\n",
        "    for i in list_1:\n",
        "      if(string_1[-1]==i):\n",
        "        r=r+i\n",
        "    string_1=string_1[0:len(string_1)-1]\n",
        "  return(r)\n",
        "print(main(\"abalone\", [\"a\",\"i\"]) )"
      ]
    },
    {
      "cell_type": "code",
      "execution_count": 88,
      "metadata": {
        "colab": {
          "base_uri": "https://localhost:8080/"
        },
        "id": "6XZSEre4lYo4",
        "outputId": "3ade70df-9f8e-45e1-93a2-95e7f7865ba8"
      },
      "outputs": [
        {
          "output_type": "execute_result",
          "data": {
            "text/plain": [
              "[12, 0.12]"
            ]
          },
          "metadata": {},
          "execution_count": 88
        }
      ],
      "source": [
        "# La siguiente función debe aceptar un argumento, una lista con números enteros y flotantes\n",
        "# La función debe devolver una lista con solo números enteros y flotantes que terminen en 2\n",
        "\n",
        "# Por ejemplo: \n",
        "# main([12, 2., .12, 3 ]) \n",
        "# debe dar: [12, .12 ] \n",
        "\n",
        "def main(list_1):\n",
        "  r_list=[]\n",
        "  for i in list_1:\n",
        "    j=str(i)\n",
        "    if(j[-1]==\"2\"):\n",
        "      r_list.append(i)\n",
        "  return(r_list)\n",
        "main([12, 2., .12, 3 ])"
      ]
    },
    {
      "cell_type": "markdown",
      "metadata": {
        "id": "-NTNybC1apRN"
      },
      "source": [
        "## Extra 3"
      ]
    },
    {
      "cell_type": "code",
      "execution_count": 104,
      "metadata": {
        "id": "KqroULXilgsw",
        "colab": {
          "base_uri": "https://localhost:8080/"
        },
        "outputId": "716422cb-79f0-4cf3-a98a-26ef8a722203"
      },
      "outputs": [
        {
          "output_type": "execute_result",
          "data": {
            "text/plain": [
              "[2, 3, 22]"
            ]
          },
          "metadata": {},
          "execution_count": 104
        }
      ],
      "source": [
        "# La siguiente función debería aceptar un argumento, una lista con al menos 2 enteros\n",
        "# La función debe devolver una lista en el mismo orden pero sin el segundo número más alto\n",
        "\n",
        "# Por ejemplo:\n",
        "# main([12, 2, 22, 3 ]) \n",
        "# debe dar:  [2, 22, 3 ] \n",
        "\n",
        "def main(list_1):\n",
        "  aux=list_1\n",
        "  aux.sort()\n",
        "  r=[]\n",
        "  for i in list_1:\n",
        "    if (i is not aux[-2]):\n",
        "      r.append(i)\n",
        "  return r\n",
        "\n",
        "main([12, 2, 22, 3])"
      ]
    },
    {
      "cell_type": "code",
      "execution_count": 105,
      "metadata": {
        "id": "2yKboKWAtZ0i",
        "colab": {
          "base_uri": "https://localhost:8080/"
        },
        "outputId": "62634544-3bb4-47d1-cd3e-795e93dac0b1"
      },
      "outputs": [
        {
          "output_type": "execute_result",
          "data": {
            "text/plain": [
              "[False, True, False, True]"
            ]
          },
          "metadata": {},
          "execution_count": 105
        }
      ],
      "source": [
        "# La siguiente función debe aceptar dos argumentos, un número entero y una lista con números enteros\n",
        "# La función debe devolver una lista con Verdadero y Falso para todos los enteros en la lista\n",
        "# por el cual el primer argumento es divisible y False en caso contrario.\n",
        "\n",
        "# Por ejemplo: \n",
        "# main(10, [12, 2, 22, 5 ]) \n",
        "# debe dar [False, True, False, True] \n",
        "\n",
        "def main(integer_1, list_1):\n",
        "  r=[]\n",
        "  for i in list_1:\n",
        "    if (integer_1%i==0):\n",
        "      r.append(True)\n",
        "    else:\n",
        "      r.append(False)\n",
        "  return r\n",
        "\n",
        "main(10, [12, 2, 22, 5 ]) "
      ]
    },
    {
      "cell_type": "code",
      "execution_count": 108,
      "metadata": {
        "id": "XRiUD6B0yhu_",
        "colab": {
          "base_uri": "https://localhost:8080/"
        },
        "outputId": "70e8f553-b252-48b5-83ce-4e69fecf950a"
      },
      "outputs": [
        {
          "output_type": "execute_result",
          "data": {
            "text/plain": [
              "{'ab': 2, 'abc': 3, 'ad': 2}"
            ]
          },
          "metadata": {},
          "execution_count": 108
        }
      ],
      "source": [
        "# La siguiente función debe aceptar un argumento, una lista con cadenas\n",
        "# La función debe devolver un diccionario con como claves las cadenas y como valores\n",
        "# las longitudes de las cadenas\n",
        "\n",
        "# Por ejemplo: \n",
        "# main([\"ad\", \"abc\", \"ab\"]) \n",
        "# debe dar {\"ad\":2, \"abc\":3, \"ab\":2} \n",
        "\n",
        "def main(list_1):\n",
        "  r={}\n",
        "  for i in list_1:\n",
        "    r[i]=len(i)\n",
        "  return r\n",
        "main([\"ab\", \"abc\", \"ad\"])"
      ]
    },
    {
      "cell_type": "code",
      "execution_count": 117,
      "metadata": {
        "id": "sE1Fa5gPy3ec",
        "colab": {
          "base_uri": "https://localhost:8080/"
        },
        "outputId": "b74897d1-0055-4829-db84-fedcd9c41b8d"
      },
      "outputs": [
        {
          "output_type": "execute_result",
          "data": {
            "text/plain": [
              "{1: ['.', ' '], 2: ['ad', 'ab'], 3: ['abc'], 5: ['abcds']}"
            ]
          },
          "metadata": {},
          "execution_count": 117
        }
      ],
      "source": [
        "# La siguiente función debe aceptar un argumento, una lista con cadenas\n",
        "\n",
        "# La función debe devolver un diccionario con como keys la longitud de las cadenas y como valores\n",
        "# listas ordenadas con las cadenas con la longitud igual a la key\n",
        "\n",
        "# Por ejemplo: \n",
        "# main([\"ab\", \"abc\", \"ad\"]) \n",
        "# debe dar {2: [\"ab\", \"ad\"], 3: [\"abc\"]} \n",
        "\n",
        "def main(list_1):\n",
        "  aux=[]\n",
        "  r={}\n",
        "  for i in list_1:\n",
        "    aux.append(len(i))\n",
        "  for i in range(len(list_1)):\n",
        "    aux2=[list_1[i]]\n",
        "    if(aux.count(len(list_1[i])) is not 0):\n",
        "      for j in range(len(aux)):\n",
        "        if(i is not j):\n",
        "          if(aux[i]==aux[j]):\n",
        "            aux2.append(list_1[j])\n",
        "    r[len(list_1[i])]=aux2\n",
        "  return r\n",
        "\n",
        "main([\"ab\", \"abc\", \"ad\", \"abcds\", \" \", \".\"])"
      ]
    }
  ],
  "metadata": {
    "colab": {
      "collapsed_sections": [],
      "name": "ejercicios_extra_clase_1.ipynb",
      "provenance": []
    },
    "kernelspec": {
      "display_name": "Python 3",
      "language": "python",
      "name": "python3"
    },
    "language_info": {
      "codemirror_mode": {
        "name": "ipython",
        "version": 3
      },
      "file_extension": ".py",
      "mimetype": "text/x-python",
      "name": "python",
      "nbconvert_exporter": "python",
      "pygments_lexer": "ipython3",
      "version": "3.8.5"
    }
  },
  "nbformat": 4,
  "nbformat_minor": 0
}