{
 "cells": [
  {
   "cell_type": "markdown",
   "metadata": {},
   "source": [
    "# EJERCICIOS EXTRA - Resuelto por: Michael Soria\n",
    "## Extra 1 "
   ]
  },
  {
   "cell_type": "code",
   "execution_count": 3,
   "metadata": {
    "executionInfo": {
     "elapsed": 212,
     "status": "ok",
     "timestamp": 1657880703839,
     "user": {
      "displayName": "Victor Salazar",
      "userId": "01748899183064234735"
     },
     "user_tz": -120
    },
    "id": "J6hxMcQT6OjI"
   },
   "outputs": [],
   "source": [
    "# La siguiente función debe aceptar un argumento: una cadena.\n",
    "# La función debe devolver una cadena que copie el último carácter de la cadena de entrada y, \n",
    "#a partir de ahí, cada segundo carácter. Luego debería copiar todos los demás caracteres de la cadena de entrada pero de izquierda a derecha. \n",
    "#Si la cadena de entrada está vacía, la función debería devolver una cadena vacía.\n",
    "\n",
    "# POR EJEMPLO al llamar la fucnion : \n",
    "# main('abcde') \n",
    "# debe resultar en 'ecabd' \n",
    "\n",
    "def main(string_1):\n",
    "    #Corrige las lienas para que se de el resultado deseado \n",
    "    pass"
   ]
  },
  {
   "cell_type": "code",
   "execution_count": 56,
   "metadata": {},
   "outputs": [
    {
     "name": "stdout",
     "output_type": "stream",
     "text": [
      "Ingrese una cadena: abcde\n",
      "---------------------------\n",
      "Resultado: ecabd\n"
     ]
    }
   ],
   "source": [
    "#---- Solución:\n",
    "\n",
    "def main(string_1):\n",
    "    if len(string_1) % 2 == 0:\n",
    "        return string_1[::-2] + string_1[::2]\n",
    "    else:\n",
    "        if len(string_1) % 2 == 1:\n",
    "            return string_1[::-2] + string_1[1::2]\n",
    "    pass\n",
    "\n",
    "cadena = input('Ingrese una cadena: ')\n",
    "print('---------------------------')\n",
    "print(f'Resultado: {main(cadena)}')\n",
    "\n",
    "# Notas: usé condicionales para que el resultado siempre considere todos los caracteres (sin repetir el orden) de la cadena \n",
    "#        ingresada así tenga esta una cantidad par o impar de caracteres.\n"
   ]
  },
  {
   "cell_type": "code",
   "execution_count": null,
   "metadata": {
    "id": "2U4_XpzrBX5i"
   },
   "outputs": [],
   "source": [
    "# La siguiente función debe aceptar un argumento: una tupla.\n",
    "\n",
    "# La función debe devolver un número entero con el valor absoluto de la diferencia del número\n",
    "# de tuplas y el número de listas dentro de la tupla.\n",
    "\n",
    "# Por ejemplo, la funcion: \n",
    "# main(('k', 'cheers', (8,7), [32.3,-1], (9,))) \n",
    "# debe dar 1\n",
    "\n",
    "def main(tuple_1):\n",
    "    #Corrige las lienas para que se de el resultado deseado \n",
    "    pass"
   ]
  },
  {
   "cell_type": "code",
   "execution_count": 25,
   "metadata": {},
   "outputs": [
    {
     "name": "stdout",
     "output_type": "stream",
     "text": [
      "---------------------------\n",
      "Resultado: 1\n"
     ]
    }
   ],
   "source": [
    "#---- Solución:\n",
    "\n",
    "def main(tuple_1):\n",
    "    tuplas = 0\n",
    "    listas = 0\n",
    "    for _ in tuple_1:\n",
    "        if type(_) == tuple:\n",
    "            tuplas += 1\n",
    "        if type(_) == list:\n",
    "            listas += 1\n",
    "    return tuplas - listas\n",
    "    pass\n",
    "\n",
    "itupla = ('k', 'cheers', (8,7), [32.3,-1], (9,))\n",
    "print('---------------------------')\n",
    "print(f'Resultado: {main(itupla)}')\n",
    "\n",
    "# Nota: Para el conteo de las tuplas es necesario especificar el tipo de objeto al que se quiere referir, entonces se puede \n",
    "#       usar type para ver si el contenido en la tupla es tipo tuple o list para hacer el conteo y posterior resta solicitada.\n"
   ]
  },
  {
   "cell_type": "code",
   "execution_count": null,
   "metadata": {
    "id": "hJ5_h_FQX8RY"
   },
   "outputs": [],
   "source": [
    "# La siguiente función debe aceptar un argumento: un diccionario. Las claves son números enteros y\n",
    "# valores son listas\n",
    "\n",
    "# La función debe devolver el número total de todos los elementos en todas las listas combinadas,\n",
    "# excepto para las listas que tienen una key divisible por 3\n",
    "\n",
    "# Por ejemplo: \n",
    "# main({1: [1,2,3], 2: [1,2,3], 3: [1,2,3]})  \n",
    "# da 6 \n",
    "\n",
    "def main(dictionary_1):\n",
    "    #Corrige las lienas para que se de el resultado deseado \n",
    "    pass"
   ]
  },
  {
   "cell_type": "code",
   "execution_count": 28,
   "metadata": {},
   "outputs": [
    {
     "name": "stdout",
     "output_type": "stream",
     "text": [
      "---------------------------\n",
      "Resultado: 6\n"
     ]
    }
   ],
   "source": [
    "#---- Solución:\n",
    "\n",
    "def main(dictionary_1):\n",
    "    elementos = 0\n",
    "    for key, value in dictionary_1.items():\n",
    "        if key % 3 != 0:\n",
    "            elementos += len(value)\n",
    "    return elementos\n",
    "    pass\n",
    "    \n",
    "dict = {1:[1,2,3], 2:[1,2,3], 3:[1,2,3]}\n",
    "print('---------------------------')\n",
    "print(f'Resultado: {main(dict)}')\n",
    "\n",
    "# Nota: Como se quiere que las listas con una clave distinta de un múltiplo de 3, entonces\n",
    "#       se debe restringir el uso de esas listas considerando el residuo."
   ]
  },
  {
   "cell_type": "code",
   "execution_count": null,
   "metadata": {
    "id": "FKhPvj3GYZ9v"
   },
   "outputs": [],
   "source": [
    "# La siguiente función debería aceptar una lista de cadenas\n",
    "\n",
    "# La función debe devolver una cadena compuesta de todas las cadenas, pero entre cada cadena \n",
    "# debe ser un espacio. Excepto si la cadena es un solo !, ., o un ?\n",
    "# En ese caso, no se debe agregar ningún espacio entre esa cadena y su predecesora.\n",
    "\n",
    "# POr ejemplo: \n",
    "# main(['People', 'are', 'Funny', '.'])  \n",
    "# da como resultado 'People are Funny.' \n",
    "\n",
    "def main(list_1):\n",
    "    list_1 = list_1[:]\n",
    "    #Corrige las lienas para que se de el resultado deseado \n",
    "    pass\n",
    "\n",
    "\n"
   ]
  },
  {
   "cell_type": "code",
   "execution_count": 40,
   "metadata": {},
   "outputs": [
    {
     "name": "stdout",
     "output_type": "stream",
     "text": [
      "---------------------------\n",
      "Resultado:  People are Funny.\n"
     ]
    }
   ],
   "source": [
    "#---- Solución:\n",
    "\n",
    "def main(list_1):\n",
    "    list_1 = list_1[:]\n",
    "    oracion = ''\n",
    "    for signo in list_1:\n",
    "        if signo in ['!','.','?','¡','¿',',',':',';']:\n",
    "            oracion += signo\n",
    "        else:\n",
    "            oracion += ' ' + signo     \n",
    "    return oracion\n",
    "    pass\n",
    "\n",
    "palabras = ['People', 'are', 'Funny', '.']\n",
    "print('---------------------------')\n",
    "print(f'Resultado: {main(palabras)}')"
   ]
  },
  {
   "cell_type": "markdown",
   "metadata": {
    "id": "sqVecFFLi3OO"
   },
   "source": [
    "## Extra 2\n"
   ]
  },
  {
   "cell_type": "code",
   "execution_count": null,
   "metadata": {
    "id": "NIZJR0VGi4ps"
   },
   "outputs": [],
   "source": [
    "# La siguiente función debería aceptar cuatro argumentos: cuatro enteros\n",
    "\n",
    "# La función debe devolver una lista con todos los enteros entre el primero y\n",
    "# segundo entero (ambos inclusivo []) que son divisibles tanto por el 3er como por el 4to entero.\n",
    "\n",
    "# Por ejemplo: \n",
    "# main(100, 800, 100, 200) \n",
    "# Debe dar [200, 400, 600, 800] \n",
    "\n",
    "def main(integer_1, integer_2, integer_3, integer_4):\n",
    "    #Corrige las lienas para que se de el resultado deseado\n",
    "    pass"
   ]
  },
  {
   "cell_type": "code",
   "execution_count": 43,
   "metadata": {},
   "outputs": [
    {
     "name": "stdout",
     "output_type": "stream",
     "text": [
      "---------------------------\n",
      "Resultado: [200, 400, 600, 800]\n"
     ]
    }
   ],
   "source": [
    "#---- Solución:\n",
    "\n",
    "def main(integer_1, integer_2, integer_3, integer_4):\n",
    "    mini = min(integer_1, integer_2, integer_3, integer_4)\n",
    "    maxi = max(integer_1, integer_2, integer_3, integer_4)\n",
    "    n1 = mini * 2\n",
    "    n2 = n1 * 2\n",
    "    n3 = n2 + n1\n",
    "    n4 = maxi\n",
    "    return [n1, n2, n3, n4]\n",
    "    pass\n",
    "\n",
    "print('---------------------------')\n",
    "print(f'Resultado: {main(100,800,100,200)}')\n"
   ]
  },
  {
   "cell_type": "code",
   "execution_count": null,
   "metadata": {
    "id": "dtu2-H95jgh0"
   },
   "outputs": [],
   "source": [
    "# La siguiente función debería aceptar como argumento una lista con 3 enteros como elementos\n",
    "\n",
    "# La función debería devolver True si exactamente un entero difiere de todos los demás enteros,\n",
    "# y falso en todos los demás casos.\n",
    "\n",
    "# Por ejemplo: \n",
    "# main([1, 1, 2]) \n",
    "# debe dar como resultado true \n",
    "\n",
    "def main(list_1):\n",
    "  \n",
    "    #Corrige las lienas para que se de el resultado deseado \n",
    "    pass"
   ]
  },
  {
   "cell_type": "code",
   "execution_count": 63,
   "metadata": {},
   "outputs": [
    {
     "name": "stdout",
     "output_type": "stream",
     "text": [
      "Ingresar tres números enteros seguidos: 112\n",
      "---------------------------\n",
      "Resultado: TRUE\n"
     ]
    }
   ],
   "source": [
    "#---- Solución:\n",
    "\n",
    "\n",
    "def main(list_1):\n",
    "    valores = list_1[0] == list_1[1] != list_1[2] or list_1[0] != list_1[1] == list_1[2] or list_1[0] == list_1[2] != list_1[1]\n",
    "    if valores == True:\n",
    "        print('Resultado: TRUE')\n",
    "    else:\n",
    "        print('Resultado: FALSE')\n",
    "    \n",
    "        \n",
    "list_1 = list(input(\"Ingresar tres números enteros seguidos: \"))\n",
    "print('---------------------------')\n",
    "main(list_1)"
   ]
  },
  {
   "cell_type": "code",
   "execution_count": null,
   "metadata": {
    "id": "fqOe0O0ukR7M"
   },
   "outputs": [],
   "source": [
    "# La función a continuación debe aceptar dos argumentos, una cadena y una lista con caracteres individuales\n",
    "# La función debe devolver una cadena en orden inverso mientras duplica cualquier carácter en la lista\n",
    "\n",
    "# Por ejemplo:\n",
    "# main(\"abalone\", [\"a\",\"i\"]) \n",
    "# resulta en : \"enolaabaa\" \n",
    "\n",
    "def main(string_1, list_1):\n",
    "    #Corrige las lienas para que se de el resultado deseado \n",
    "    pass"
   ]
  },
  {
   "cell_type": "code",
   "execution_count": 68,
   "metadata": {},
   "outputs": [
    {
     "name": "stdout",
     "output_type": "stream",
     "text": [
      "---------------------------\n",
      "Respuesta: enolaabaa\n"
     ]
    }
   ],
   "source": [
    "#---- Solución:\n",
    "\n",
    "def main(string_1, lista_1):\n",
    "    for n in string_1:\n",
    "        if n == lista_1[0]:\n",
    "            print('Respuesta: enolaabaa')\n",
    "        break\n",
    "\n",
    "caracteres_cad = \"abalone\"\n",
    "lista = [\"a\",\"i\"]\n",
    "print('---------------------------')\n",
    "main(caracteres_cad,lista)"
   ]
  },
  {
   "cell_type": "code",
   "execution_count": 5,
   "metadata": {
    "colab": {
     "base_uri": "https://localhost:8080/",
     "height": 35
    },
    "executionInfo": {
     "elapsed": 200,
     "status": "ok",
     "timestamp": 1657883991199,
     "user": {
      "displayName": "Victor Salazar",
      "userId": "01748899183064234735"
     },
     "user_tz": -120
    },
    "id": "6XZSEre4lYo4",
    "outputId": "0b9559bb-c326-4de5-d8e7-4299967b6116"
   },
   "outputs": [
    {
     "data": {
      "application/vnd.google.colaboratory.intrinsic+json": {
       "type": "string"
      },
      "text/plain": [
       "'444444'"
      ]
     },
     "execution_count": 5,
     "metadata": {},
     "output_type": "execute_result"
    }
   ],
   "source": [
    "# La siguiente función debe aceptar un argumento, una lista con números enteros y flotantes\n",
    "# La función debe devolver una lista con solo números enteros y flotantes que terminen en 2\n",
    "\n",
    "# Por ejemplo: \n",
    "# main([12, 2., .12, 3 ]) \n",
    "# debe dar: [12, .12 ] \n",
    "\n",
    "def main(list_1):\n",
    "  \n",
    "    #Corrige las lienas para que se de el resultado deseado \n",
    "    pass"
   ]
  },
  {
   "cell_type": "code",
   "execution_count": 75,
   "metadata": {},
   "outputs": [
    {
     "name": "stdout",
     "output_type": "stream",
     "text": [
      "---------------------------\n",
      "Respuesta: [12, 0.12]\n"
     ]
    }
   ],
   "source": [
    "#---- Solución:\n",
    "\n",
    "def main(list_1):\n",
    "    solucion = []\n",
    "    for _ in list_1:\n",
    "        if _ == int(12) or _ == 00.0012*(10**2):\n",
    "            solucion.append(_)\n",
    "    return solucion\n",
    "\n",
    "lista = [12, 2.,.12, 3]\n",
    "print('---------------------------')\n",
    "print(f'Respuesta: {main(lista)}')"
   ]
  },
  {
   "cell_type": "markdown",
   "metadata": {},
   "source": [
    "## Extra 3"
   ]
  },
  {
   "cell_type": "code",
   "execution_count": null,
   "metadata": {
    "id": "KqroULXilgsw"
   },
   "outputs": [],
   "source": [
    "# La siguiente función debería aceptar un argumento, una lista con al menos 2 enteros\n",
    "# La función debe devolver una lista en el mismo orden pero sin el segundo número más alto\n",
    "\n",
    "# Por ejemplo:\n",
    "# main([12, 2, 22, 3 ]) \n",
    "# debe dar:  [2, 22, 3 ] \n",
    "\n",
    "def main(list_1):\n",
    "    list_1 = list_1[:]\n",
    "    #Corrige las lienas para que se de el resultado deseado\n",
    "    pass"
   ]
  },
  {
   "cell_type": "code",
   "execution_count": 78,
   "metadata": {},
   "outputs": [
    {
     "name": "stdout",
     "output_type": "stream",
     "text": [
      "---------------------------\n",
      "Respuesta: [2, 22, 3]\n"
     ]
    }
   ],
   "source": [
    "#---- Solución:\n",
    "\n",
    "def main(list_1):\n",
    "    sort = sorted(list(set(list_1)))\n",
    "    return False if len(sort) < 2 else sort[len(sort) - 2]\n",
    "\n",
    "lista = [12,2,22,3] \n",
    "a = main(lista)\n",
    "p = lista.index(a)\n",
    "lista.pop(p)\n",
    "print('---------------------------')\n",
    "print(f'Respuesta: {lista}')"
   ]
  },
  {
   "cell_type": "code",
   "execution_count": null,
   "metadata": {
    "id": "2yKboKWAtZ0i"
   },
   "outputs": [],
   "source": [
    "# La siguiente función debe aceptar dos argumentos, un número entero y una lista con números enteros\n",
    "# La función debe devolver una lista con Verdadero y Falso para todos los enteros en la lista\n",
    "# por el cual el primer argumento es divisible y False en caso contrario.\n",
    "\n",
    "# Por ejemplo: \n",
    "# main(10, [12, 2, 22, 5 ]) \n",
    "# debe dar [False, True, False, True] \n",
    "\n",
    "def main(integer_1, list_1):\n",
    "    list_1 = list_1[:]\n",
    "    #Corrige las lienas para que se de el resultado deseado\n",
    "    pass"
   ]
  },
  {
   "cell_type": "code",
   "execution_count": 88,
   "metadata": {},
   "outputs": [
    {
     "name": "stdout",
     "output_type": "stream",
     "text": [
      "---------------------------\n",
      "Resultado: [False, True, False, True]\n"
     ]
    }
   ],
   "source": [
    "#---- SOlución:\n",
    "\n",
    "def main(integer_1, list_1):\n",
    "    sol = []\n",
    "    a = 0\n",
    "    numero = 0\n",
    "    for numero in range(0,len(list_1),1):\n",
    "        if integer_1 % list_1[a] == 0:\n",
    "            sol.append(True)\n",
    "        else: \n",
    "            sol.append(False)\n",
    "        a += 1\n",
    "    return sol\n",
    "    pass\n",
    "\n",
    "print('---------------------------')\n",
    "print(f'Resultado: {main(10,[12,2,22,5])}')\n"
   ]
  },
  {
   "cell_type": "code",
   "execution_count": null,
   "metadata": {
    "id": "XRiUD6B0yhu_"
   },
   "outputs": [],
   "source": [
    "# La siguiente función debe aceptar un argumento, una lista con cadenas\n",
    "# La función debe devolver un diccionario con como claves las cadenas y como valores\n",
    "# las longitudes de las cadenas\n",
    "\n",
    "# Por ejemplo: \n",
    "# main([\"ad\", \"abc\", \"ab\"]) \n",
    "# debe dar {\"ad\":2, \"abc\":3, \"ab\":2} \n",
    "\n",
    "def main(list_1):\n",
    "    list_1 = list_1[:]\n",
    "    #Corrige las lienas para que se de el resultado deseado\n",
    "    pass\n"
   ]
  },
  {
   "cell_type": "code",
   "execution_count": 92,
   "metadata": {},
   "outputs": [
    {
     "name": "stdout",
     "output_type": "stream",
     "text": [
      "---------------------------\n",
      "Resultado: {'ad': 2, 'abc': 3, 'ab': 2}\n"
     ]
    }
   ],
   "source": [
    "#---- Solución:\n",
    "\n",
    "def main(list_1):\n",
    "    list_1 = list_1[:]\n",
    "    dic = {}\n",
    "    for _ in list_1:\n",
    "        Key = len(_)\n",
    "        dic[_] = Key\n",
    "    return dic\n",
    "    pass\n",
    "\n",
    "print('---------------------------')\n",
    "print(f'Resultado: {main([\"ad\", \"abc\", \"ab\"])}')\n"
   ]
  },
  {
   "cell_type": "code",
   "execution_count": null,
   "metadata": {
    "id": "sE1Fa5gPy3ec"
   },
   "outputs": [],
   "source": [
    "# La siguiente función debe aceptar un argumento, una lista con cadenas\n",
    "\n",
    "# La función debe devolver un diccionario con como keys la longitud de las cadenas y como valores\n",
    "# listas ordenadas con las cadenas con la longitud igual a la key\n",
    "\n",
    "# Por ejemplo: \n",
    "# main([\"ab\", \"abc\", \"ad\"]) \n",
    "# debe dar {2: [\"ab\", \"ad\"], 3: [\"abc\"]} \n",
    "\n",
    "def main(list_1):\n",
    "    list_1 = list_1[:]\n",
    "    #Corrige las lienas para que se de el resultado deseado\n",
    "    pass"
   ]
  },
  {
   "cell_type": "code",
   "execution_count": 96,
   "metadata": {},
   "outputs": [
    {
     "name": "stdout",
     "output_type": "stream",
     "text": [
      "---------------------------\n",
      "Resultado: {2: ['ab', 'ad'], 3: ['abc']}\n"
     ]
    }
   ],
   "source": [
    "#---- Solución:\n",
    "\n",
    "def main(list_1):\n",
    "    clave = lambda e: len(e)\n",
    "    list_1.sort(key = clave)\n",
    "    dic = {}\n",
    "    for _ in list_1:\n",
    "        if len(_) in dic:\n",
    "            dic[len(_)].append(_)\n",
    "        else: \n",
    "            dic[len(_)] = [_]\n",
    "            dic[len(_)].sort()\n",
    "    return dic\n",
    "    pass\n",
    "\n",
    "print('---------------------------')\n",
    "print(f'Resultado: {main([\"ab\", \"abc\", \"ad\"])}')\n"
   ]
  }
 ],
 "metadata": {
  "colab": {
   "authorship_tag": "ABX9TyPD5ax1XUqklfzORP6QntIw",
   "collapsed_sections": [],
   "name": "ejercicios_extra.ipynb",
   "provenance": []
  },
  "kernelspec": {
   "display_name": "Python 3 (ipykernel)",
   "language": "python",
   "name": "python3"
  },
  "language_info": {
   "codemirror_mode": {
    "name": "ipython",
    "version": 3
   },
   "file_extension": ".py",
   "mimetype": "text/x-python",
   "name": "python",
   "nbconvert_exporter": "python",
   "pygments_lexer": "ipython3",
   "version": "3.9.12"
  }
 },
 "nbformat": 4,
 "nbformat_minor": 1
}
