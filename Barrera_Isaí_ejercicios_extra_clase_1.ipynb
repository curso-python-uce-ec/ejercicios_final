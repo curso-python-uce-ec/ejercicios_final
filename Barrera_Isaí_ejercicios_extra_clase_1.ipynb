{
  "cells": [
    {
      "cell_type": "markdown",
      "metadata": {
        "id": "Pnwid__JA3Vo"
      },
      "source": [
        "# EJERCICIOS EXTRA\n",
        "## Extra 1 "
      ]
    },
    {
      "cell_type": "code",
      "execution_count": null,
      "metadata": {
        "id": "J6hxMcQT6OjI"
      },
      "outputs": [],
      "source": [
        "# La siguiente función debe aceptar un argumento: una cadena.\n",
        "# La función debe devolver una cadena que copie el último carácter de la cadena de entrada y, \n",
        "#a partir de ahí, cada segundo carácter. Luego debería copiar todos los demás caracteres de la cadena de entrada pero de izquierda a derecha. \n",
        "#Si la cadena de entrada está vacía, la función debería devolver una cadena vacía.\n",
        "\n",
        "# POR EJEMPLO al llamar la fucnion : \n",
        "# main('abcde') \n",
        "# debe resultar en 'ecabd' \n",
        "\n",
        "def main(string_1):\n",
        "    #Corrige las lienas para que se de el resultado deseado \n",
        "    pass"
      ]
    },
    {
      "cell_type": "code",
      "source": [
        "\n",
        "def main(string_1):\n",
        "  if string_1=='':\n",
        "    print('')\n",
        "  else: \n",
        "      print(string_1[::-2]+string_1[0::2])\n",
        "main('Supercalifragilisticoespialidoso')"
      ],
      "metadata": {
        "colab": {
          "base_uri": "https://localhost:8080/"
        },
        "id": "wH5jnjm4DdHY",
        "outputId": "54e56981-218f-461e-81b9-9fa2808f4e5a"
      },
      "execution_count": 6,
      "outputs": [
        {
          "output_type": "stream",
          "name": "stdout",
          "text": [
            "ooiapectiiaflceuSprairglsiosilds\n"
          ]
        }
      ]
    },
    {
      "cell_type": "code",
      "execution_count": null,
      "metadata": {
        "id": "2U4_XpzrBX5i"
      },
      "outputs": [],
      "source": [
        "# La siguiente función debe aceptar un argumento: una tupla.\n",
        "\n",
        "# La función debe devolver un número entero con el valor absoluto de la diferencia del número\n",
        "# de tuplas y el número de listas dentro de la tupla.\n",
        "\n",
        "# Por ejemplo, la funcion: \n",
        "# main(('k', 'cheers', (8,7), [32.3,-1], (9,))) \n",
        "# debe dar 1\n",
        "\n",
        "def main(tuple_1):\n",
        "    #Corrige las lineas para que se de el resultado deseado \n",
        "    pass"
      ]
    },
    {
      "cell_type": "code",
      "source": [
        "def main(tuple_1):\n",
        "  conttuplas=0\n",
        "  contlistas=0\n",
        "  for identificador in tuple_1:\n",
        "      if type(identificador) == tuple: \n",
        "        conttuplas += 1 \n",
        "      if type(identificador) == list: \n",
        "        contlistas +=1 \n",
        "  resta=conttuplas-contlistas \n",
        "  print('diferencia total de tuplas y total de listas= ', resta)\n",
        "\n",
        "main(('k', 'cheers', (8,7), [32.3,-1], (9,)))"
      ],
      "metadata": {
        "colab": {
          "base_uri": "https://localhost:8080/"
        },
        "id": "HTJM88Bib0S1",
        "outputId": "0b4b59c8-6726-4b98-e1f9-03e51a68600e"
      },
      "execution_count": 13,
      "outputs": [
        {
          "output_type": "stream",
          "name": "stdout",
          "text": [
            "diferencia total de tuplas y total de listas=  1\n"
          ]
        }
      ]
    },
    {
      "cell_type": "code",
      "execution_count": null,
      "metadata": {
        "id": "hJ5_h_FQX8RY"
      },
      "outputs": [],
      "source": [
        "# La siguiente función debe aceptar un argumento: un diccionario. Las claves son números enteros y\n",
        "# valores son listas\n",
        "\n",
        "# La función debe devolver el número total de todos los elementos en todas las listas combinadas,\n",
        "# excepto para las listas que tienen una key divisible por 3\n",
        "\n",
        "# Por ejemplo: \n",
        "# main({1: [1,2,3], 2: [1,2,3], 3: [1,2,3]})  \n",
        "# da 6 \n",
        "\n",
        "def main(dictionary_1):\n",
        "    #Corrige las lienas para que se de el resultado deseado \n",
        "    pass"
      ]
    },
    {
      "cell_type": "code",
      "source": [
        "def main(dictionary_1):\n",
        "  contador=0\n",
        "  for key,char in dictionary_1.items():\n",
        "    if key%3!=0:\n",
        "      contador += len(char)\n",
        "  print(contador)\n",
        "\n",
        "    \n",
        "\n",
        "main({1: [4,5,6], 2: [4,5,6], 3: [4,5,6], 5: [4,5,6], 6: [4,5,6]})"
      ],
      "metadata": {
        "colab": {
          "base_uri": "https://localhost:8080/"
        },
        "id": "hwzJ4HJXgDGX",
        "outputId": "34f79b88-7f23-4c6d-ee85-48e57ac938ec"
      },
      "execution_count": 21,
      "outputs": [
        {
          "output_type": "stream",
          "name": "stdout",
          "text": [
            "9\n"
          ]
        }
      ]
    },
    {
      "cell_type": "code",
      "execution_count": null,
      "metadata": {
        "id": "FKhPvj3GYZ9v"
      },
      "outputs": [],
      "source": [
        "# La siguiente función debería aceptar una lista de cadenas\n",
        "\n",
        "# La función debe devolver una cadena compuesta de todas las cadenas, pero entre cada cadena \n",
        "# debe ser un espacio. Excepto si la cadena es un solo !, ., o un ?\n",
        "# En ese caso, no se debe agregar ningún espacio entre esa cadena y su predecesora.\n",
        "\n",
        "# POr ejemplo: \n",
        "# main(['People', 'are', 'Funny', '.'])  \n",
        "# da como resultado 'People are Funny.' \n",
        "\n",
        "def main(list_1):\n",
        "    list_1 = list_1[:]\n",
        "    #Corrige las lienas para que se de el resultado deseado \n",
        "    pass\n",
        "\n",
        "\n"
      ]
    },
    {
      "cell_type": "code",
      "source": [
        "def main(list_1):\n",
        "    list_1 = list_1[:]\n",
        "    resultado = \"\"\n",
        "    for i, j in enumerate(list_1, 0):\n",
        "        if j in [\"!\", \".\", \"?\", \",\"]: resultado += list_1[i]\n",
        "        else: resultado += \" \" + j\n",
        "    print(resultado)\n",
        "\n",
        "main(['Finché ', 'c’è ', 'vita ', 'c’è', 'speranza', '.', ])"
      ],
      "metadata": {
        "colab": {
          "base_uri": "https://localhost:8080/"
        },
        "id": "MIjJHd9GkPPC",
        "outputId": "cf831e69-6e7f-4e1c-bbb2-3fd51808c910"
      },
      "execution_count": 25,
      "outputs": [
        {
          "output_type": "stream",
          "name": "stdout",
          "text": [
            " Finché  c’è  vita  c’è speranza.\n"
          ]
        }
      ]
    },
    {
      "cell_type": "markdown",
      "metadata": {
        "id": "sqVecFFLi3OO"
      },
      "source": [
        "## Extra 2\n"
      ]
    },
    {
      "cell_type": "code",
      "execution_count": null,
      "metadata": {
        "id": "NIZJR0VGi4ps"
      },
      "outputs": [],
      "source": [
        "# La siguiente función debería aceptar cuatro argumentos: cuatro enteros\n",
        "\n",
        "# La función debe devolver una lista con todos los enteros entre el primero y\n",
        "# segundo entero (ambos inclusivo []) que son divisibles tanto por el 3er como por el 4to entero.\n",
        "\n",
        "# Por ejemplo: \n",
        "# main(100, 800, 100, 200) \n",
        "# Debe dar [200, 400, 600, 800] \n",
        "\n",
        "def main(integer_1, integer_2, integer_3, integer_4):\n",
        "    #Corrige las lienas para que se de el resultado deseado\n",
        "    pass"
      ]
    },
    {
      "cell_type": "code",
      "source": [
        "def main(integer_1, integer_2, integer_3, integer_4):\n",
        "    lista = [i for i in range(integer_1, integer_2+1) if not (i % integer_3 or i % integer_4)]\n",
        "    return lista\n",
        "\n",
        "main(100, 800, 100, 200)"
      ],
      "metadata": {
        "colab": {
          "base_uri": "https://localhost:8080/"
        },
        "id": "lT8Dt9OOqiZE",
        "outputId": "157b7bc8-23b5-4d59-ebf8-1fdb48e08017"
      },
      "execution_count": 27,
      "outputs": [
        {
          "output_type": "execute_result",
          "data": {
            "text/plain": [
              "[200, 400, 600, 800]"
            ]
          },
          "metadata": {},
          "execution_count": 27
        }
      ]
    },
    {
      "cell_type": "code",
      "execution_count": null,
      "metadata": {
        "id": "dtu2-H95jgh0"
      },
      "outputs": [],
      "source": [
        "# La siguiente función debería aceptar como argumento una lista con 3 enteros como elementos\n",
        "\n",
        "# La función debería devolver True si exactamente un entero difiere de todos los demás enteros,\n",
        "# y falso en todos los demás casos.\n",
        "\n",
        "# Por ejemplo: \n",
        "# main([1, 1, 2]) \n",
        "# debe dar como resultado true \n",
        "\n",
        "def main(list_1):\n",
        "  \n",
        "    #Corrige las lienas para que se de el resultado deseado \n",
        "    pass"
      ]
    },
    {
      "cell_type": "code",
      "source": [
        "def main(list_1):\n",
        "  if len(list_1) - len(set(list_1)) ==0:\n",
        "    print('false')\n",
        "  elif len(list_1) - len(set(list_1)) >=1:\n",
        "    if len(set(list_1)) == 2:\n",
        "      print('true')\n",
        "    else:\n",
        "      print('false')\n",
        "main([1, 1, 2,]) "
      ],
      "metadata": {
        "colab": {
          "base_uri": "https://localhost:8080/"
        },
        "id": "lE18VO7Xq9D4",
        "outputId": "27a1bce9-ff78-496a-d787-747a4377fbe1"
      },
      "execution_count": 28,
      "outputs": [
        {
          "output_type": "stream",
          "name": "stdout",
          "text": [
            "true\n"
          ]
        }
      ]
    },
    {
      "cell_type": "code",
      "execution_count": null,
      "metadata": {
        "id": "fqOe0O0ukR7M"
      },
      "outputs": [],
      "source": [
        "# La función a continuación debe aceptar dos argumentos, una cadena y una lista con caracteres individuales\n",
        "# La función debe devolver una cadena en orden inverso mientras duplica cualquier carácter en la lista\n",
        "\n",
        "# Por ejemplo:\n",
        "# main(\"abalone\", [\"a\",\"i\"]) \n",
        "# resulta en : \"enolaabaa\" \n",
        "\n",
        "def main(string_1, list_1):\n",
        "    #Corrige las lienas para que se de el resultado deseado \n",
        "    pass"
      ]
    },
    {
      "cell_type": "code",
      "source": [
        "def main(string_1, list_1):\n",
        "  string_b=string_1[::-1]\n",
        "  string_c = ''\n",
        "  for letra in list_1:\n",
        "    x=letra in string_b\n",
        "    if x == True:\n",
        "      for character in string_b:\n",
        "        if letra== character:\n",
        "          string_c+=character\n",
        "        elif letra!= character:\n",
        "          string_c+=character*2\n",
        "  print(string_c)\n",
        "main(\"formula1\", [\"a\",\"i\"]) "
      ],
      "metadata": {
        "colab": {
          "base_uri": "https://localhost:8080/"
        },
        "id": "6arjKSCHrfFl",
        "outputId": "c692c1a5-7933-4790-b666-1a27f7c4a468"
      },
      "execution_count": 35,
      "outputs": [
        {
          "output_type": "stream",
          "name": "stdout",
          "text": [
            "11alluummrrooff\n"
          ]
        }
      ]
    },
    {
      "cell_type": "code",
      "execution_count": null,
      "metadata": {
        "colab": {
          "base_uri": "https://localhost:8080/",
          "height": 35
        },
        "id": "6XZSEre4lYo4",
        "outputId": "0b9559bb-c326-4de5-d8e7-4299967b6116"
      },
      "outputs": [
        {
          "data": {
            "application/vnd.google.colaboratory.intrinsic+json": {
              "type": "string"
            },
            "text/plain": [
              "'444444'"
            ]
          },
          "execution_count": 5,
          "metadata": {},
          "output_type": "execute_result"
        }
      ],
      "source": [
        "# La siguiente función debe aceptar un argumento, una lista con números enteros y flotantes\n",
        "# La función debe devolver una lista con solo números enteros y flotantes que terminen en 2\n",
        "\n",
        "# Por ejemplo: \n",
        "# main([12, 2., .12, 3 ]) \n",
        "# debe dar: [12, .12 ] \n",
        "\n",
        "def main(list_1):\n",
        "  \n",
        "    #Corrige las lienas para que se de el resultado deseado \n",
        "    pass"
      ]
    },
    {
      "cell_type": "code",
      "source": [
        "def main(list_1):\n",
        "    Terminados_en_2 = [i for i in list_1 if str(i)[-1] == '2']\n",
        "    print(Terminados_en_2)\n",
        "\n",
        "main([2, 4., .12, 3, 22, 25, 32.32, 37.12, 42.5, 52])"
      ],
      "metadata": {
        "colab": {
          "base_uri": "https://localhost:8080/"
        },
        "id": "b1WBV0e_sh1D",
        "outputId": "0a513a06-72e7-4dda-d21b-85dd5749cdaf"
      },
      "execution_count": 37,
      "outputs": [
        {
          "output_type": "stream",
          "name": "stdout",
          "text": [
            "[2, 0.12, 22, 32.32, 37.12, 52]\n"
          ]
        }
      ]
    },
    {
      "cell_type": "markdown",
      "metadata": {
        "id": "5E6idSH3A3WO"
      },
      "source": [
        "## Extra 3"
      ]
    },
    {
      "cell_type": "code",
      "execution_count": null,
      "metadata": {
        "id": "KqroULXilgsw"
      },
      "outputs": [],
      "source": [
        "# La siguiente función debería aceptar un argumento, una lista con al menos 2 enteros\n",
        "# La función debe devolver una lista en el mismo orden pero sin el segundo número más alto\n",
        "\n",
        "# Por ejemplo:\n",
        "# main([12, 2, 22, 3 ]) \n",
        "# debe dar:  [2, 22, 3 ] \n",
        "\n",
        "def main(list_1):\n",
        "    list_1 = list_1[:]\n",
        "    #Corrige las lienas para que se de el resultado deseado\n",
        "    pass"
      ]
    },
    {
      "cell_type": "code",
      "source": [
        "def main(lista_1):\n",
        "    s=sorted(list(set(lista_1)))\n",
        "    return False if len(s)<2 else s[len(s)-2]\n",
        "\n",
        "lista = [12,2,22,3] \n",
        "i=main(lista)\n",
        "x=lista.index(i)\n",
        "lista.pop(x)\n",
        "\n",
        "print(lista)"
      ],
      "metadata": {
        "colab": {
          "base_uri": "https://localhost:8080/"
        },
        "id": "fe87vli8tdhJ",
        "outputId": "9bad6e41-e473-4418-ce24-18903d8b83fc"
      },
      "execution_count": 38,
      "outputs": [
        {
          "output_type": "stream",
          "name": "stdout",
          "text": [
            "[2, 22, 3]\n"
          ]
        }
      ]
    },
    {
      "cell_type": "code",
      "execution_count": null,
      "metadata": {
        "id": "2yKboKWAtZ0i"
      },
      "outputs": [],
      "source": [
        "# La siguiente función debe aceptar dos argumentos, un número entero y una lista con números enteros\n",
        "# La función debe devolver una lista con Verdadero y Falso para todos los enteros en la lista\n",
        "# por el cual el primer argumento es divisible y False en caso contrario.\n",
        "\n",
        "# Por ejemplo: \n",
        "# main(10, [12, 2, 22, 5 ]) \n",
        "# debe dar [False, True, False, True] \n",
        "\n",
        "def main(integer_1, list_1):\n",
        "    list_1 = list_1[:]\n",
        "    #Corrige las lienas para que se de el resultado deseado\n",
        "    pass"
      ]
    },
    {
      "cell_type": "code",
      "source": [
        "\n",
        "def main(integer_1, list_1):\n",
        "  solución=[]\n",
        "  for elementos in list_1:\n",
        "    if integer_1% elementos==0:\n",
        "      solución.append('true')\n",
        "    elif integer_1% elementos !=0:\n",
        "      solución.append('false')\n",
        "  print(solución)\n",
        "main(10, [12, 2, 22, 5 ]) "
      ],
      "metadata": {
        "colab": {
          "base_uri": "https://localhost:8080/"
        },
        "id": "Fd8lQRzsuK1Q",
        "outputId": "f9260cc4-02ce-4fbc-977e-4652cd1883a9"
      },
      "execution_count": 41,
      "outputs": [
        {
          "output_type": "stream",
          "name": "stdout",
          "text": [
            "['false', 'true', 'false', 'true']\n"
          ]
        }
      ]
    },
    {
      "cell_type": "code",
      "execution_count": null,
      "metadata": {
        "id": "XRiUD6B0yhu_"
      },
      "outputs": [],
      "source": [
        "# La siguiente función debe aceptar un argumento, una lista con cadenas\n",
        "# La función debe devolver un diccionario con como claves las cadenas y como valores\n",
        "# las longitudes de las cadenas\n",
        "\n",
        "# Por ejemplo: \n",
        "# main([\"ad\", \"abc\", \"ab\"]) \n",
        "# debe dar {\"ad\":2, \"abc\":3, \"ab\":2} \n",
        "\n",
        "def main(list_1):\n",
        "    list_1 = list_1[:]\n",
        "    #Corrige las lienas para que se de el resultado deseado\n",
        "    pass"
      ]
    },
    {
      "cell_type": "code",
      "source": [
        "\n",
        "def main(list_1):\n",
        "    dict_1 = dict()\n",
        "    for i in list_1:\n",
        "        dict_1[i] = len(i)\n",
        "    print(dict_1)\n",
        "\n",
        "main([\"AGUA\", \"León\", \"555\", \"elefante\", \"fin\"])"
      ],
      "metadata": {
        "colab": {
          "base_uri": "https://localhost:8080/"
        },
        "id": "LhXPlQ3PurG_",
        "outputId": "400bd769-6918-4d9f-8c5d-5f9553086773"
      },
      "execution_count": 45,
      "outputs": [
        {
          "output_type": "stream",
          "name": "stdout",
          "text": [
            "{'AGUA': 4, 'León': 4, '555': 3, 'elefante': 8, 'fin': 3}\n"
          ]
        }
      ]
    },
    {
      "cell_type": "code",
      "execution_count": null,
      "metadata": {
        "id": "sE1Fa5gPy3ec"
      },
      "outputs": [],
      "source": [
        "# La siguiente función debe aceptar un argumento, una lista con cadenas\n",
        "\n",
        "# La función debe devolver un diccionario con como keys la longitud de las cadenas y como valores\n",
        "# listas ordenadas con las cadenas con la longitud igual a la key\n",
        "\n",
        "# Por ejemplo: \n",
        "# main([\"ab\", \"abc\", \"ad\"]) \n",
        "# debe dar {2: [\"ab\", \"ad\"], 3: [\"abc\"]} \n",
        "\n",
        "def main(list_1):\n",
        "    list_1 = list_1[:]\n",
        "    #Corrige las lienas para que se de el resultado deseado\n",
        "    pass"
      ]
    },
    {
      "cell_type": "code",
      "source": [
        "def main(list_1):\n",
        "    xyz = lambda e: len(e)\n",
        "    list_1.sort(key=xyz)\n",
        "    dict_1 = dict()\n",
        "    for k in list_1:\n",
        "        if len(k) in dict_1: dict_1[len(k)].append(k)\n",
        "        else: dict_1[len(k)]=[k]\n",
        "        dict_1[len(k)].sort()\n",
        "    print(dict_1)\n",
        "\n",
        "main([\"ab\", \"abc\", \"ad\", \"gato\", \"gato\", \"gato\"])"
      ],
      "metadata": {
        "colab": {
          "base_uri": "https://localhost:8080/"
        },
        "id": "koE-dBdRvq9-",
        "outputId": "b6a4f359-c790-4167-a6f3-b52b0f5d2f87"
      },
      "execution_count": 51,
      "outputs": [
        {
          "output_type": "stream",
          "name": "stdout",
          "text": [
            "{2: ['ab', 'ad'], 3: ['abc'], 4: ['gato', 'gato', 'gato']}\n"
          ]
        }
      ]
    }
  ],
  "metadata": {
    "colab": {
      "collapsed_sections": [],
      "name": "ejercicios_extra_clase_1.ipynb",
      "provenance": []
    },
    "kernelspec": {
      "display_name": "Python 3",
      "language": "python",
      "name": "python3"
    },
    "language_info": {
      "codemirror_mode": {
        "name": "ipython",
        "version": 3
      },
      "file_extension": ".py",
      "mimetype": "text/x-python",
      "name": "python",
      "nbconvert_exporter": "python",
      "pygments_lexer": "ipython3",
      "version": "3.8.5"
    }
  },
  "nbformat": 4,
  "nbformat_minor": 0
}