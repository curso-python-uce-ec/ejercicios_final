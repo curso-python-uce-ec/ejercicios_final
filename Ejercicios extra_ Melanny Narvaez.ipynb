{
  "nbformat": 4,
  "nbformat_minor": 0,
  "metadata": {
    "colab": {
      "name": "Untitled1.ipynb",
      "provenance": []
    },
    "kernelspec": {
      "name": "python3",
      "display_name": "Python 3"
    },
    "language_info": {
      "name": "python"
    }
  },
  "cells": [
    {
      "cell_type": "markdown",
      "source": [
        "**Universidad Central del Ecuador**\n",
        "**Facultad de Ciencias Económicas**\n",
        "**Curso de Python**\n",
        "**Nombre:** Melanny Yajaira Narvaez Alvarez \n",
        "\n",
        "Fecha: 31/07/2022\n",
        "\n",
        "Ejercicios Extra"
      ],
      "metadata": {
        "id": "ySL2iyenqGNs"
      }
    },
    {
      "cell_type": "markdown",
      "source": [
        "Ejercicio 1"
      ],
      "metadata": {
        "id": "hyAKX28MqaNP"
      }
    },
    {
      "cell_type": "code",
      "source": [
        "# La siguiente función debe aceptar un argumento: una cadena.\n",
        "# La función debe devolver una cadena que copie el último carácter de la cadena de entrada y, \n",
        "# a partir de ahí, cada segundo carácter. Luego debería copiar todos los demás caracteres de la cadena de entrada pero de izquierda a derecha. \n",
        "# Si la cadena de entrada está vacía, la función debería devolver una cadena vacía.\n",
        "\n",
        "# POR EJEMPLO al llamar la fucnion : \n",
        "# main('abcde') \n",
        "# debe resultar en 'ecabd' \n",
        "\n",
        "def main(string_1):\n",
        "    #Corrige las lienas para que se de el resultado deseado \n",
        "    pass"
      ],
      "metadata": {
        "id": "51cCIIfQqgHo"
      },
      "execution_count": 1,
      "outputs": []
    },
    {
      "cell_type": "code",
      "source": [
        "def main(string_1):\n",
        "  s1=string_1[len(string_1)+1::-1]\n",
        "  r=\"\"\n",
        "  for pos,letra in enumerate(s1):\n",
        "      if pos%2==0:\n",
        "        r += letra\n",
        "  for pos, letra in enumerate(string_1):\n",
        "    if pos%2==1:\n",
        "      r += letra\n",
        "  print(r)\n",
        "\n",
        "main(\"abcde\")"
      ],
      "metadata": {
        "colab": {
          "base_uri": "https://localhost:8080/"
        },
        "id": "AWVswWlIqqTb",
        "outputId": "8606634c-17bc-4e14-a1ba-fc5ffa173426"
      },
      "execution_count": 2,
      "outputs": [
        {
          "output_type": "stream",
          "name": "stdout",
          "text": [
            "ecabd\n"
          ]
        }
      ]
    },
    {
      "cell_type": "code",
      "source": [
        "# La siguiente función debe aceptar un argumento: una tupla.\n",
        "\n",
        "# La función debe devolver un número entero con el valor absoluto de la diferencia del número\n",
        "# de tuplas y el número de listas dentro de la tupla.\n",
        "\n",
        "# Por ejemplo, la funcion: \n",
        "# main(('k', 'cheers', (8,7), [32.3,-1], (9,))) \n",
        "# debe dar 1\n",
        "\n",
        "def main(tuple_1):\n",
        "    #Corrige las lienas para que se de el resultado deseado \n",
        "    pass"
      ],
      "metadata": {
        "id": "bCPKrXpnqyoB"
      },
      "execution_count": 3,
      "outputs": []
    },
    {
      "cell_type": "code",
      "source": [
        "# Solución:\n",
        "def main(tuple_1):\n",
        "  contadort=0\n",
        "  contadorl=0\n",
        "  for i in tuple_1:\n",
        "      if type(i) == tuple:\n",
        "        contadort += 1\n",
        "      if type(i) == list:\n",
        "        contadorl +=1\n",
        "  r=contadort-contadorl\n",
        "  print(r)\n",
        "\n",
        "main(('k', 'cheers', (8,7), [32.3,-1], (9,)))"
      ],
      "metadata": {
        "colab": {
          "base_uri": "https://localhost:8080/"
        },
        "id": "SYHeWBdXq3Q7",
        "outputId": "479b5411-7d6b-463f-d22a-244edd12c4b6"
      },
      "execution_count": 4,
      "outputs": [
        {
          "output_type": "stream",
          "name": "stdout",
          "text": [
            "1\n"
          ]
        }
      ]
    },
    {
      "cell_type": "code",
      "source": [
        "# La siguiente función debe aceptar un argumento: un diccionario. Las claves son números enteros y\n",
        "# valores son listas\n",
        "\n",
        "# La función debe devolver el número total de todos los elementos en todas las listas combinadas,\n",
        "# excepto para las listas que tienen una key divisible por 3\n",
        "\n",
        "# Por ejemplo: \n",
        "# main({1: [1,2,3], 2: [1,2,3], 3: [1,2,3]})  \n",
        "# da 6 \n",
        "\n",
        "def main(dictionary_1):\n",
        "    #Corrige las lienas para que se de el resultado deseado \n",
        "    pass"
      ],
      "metadata": {
        "id": "NgsDPnLRq71u"
      },
      "execution_count": 5,
      "outputs": []
    },
    {
      "cell_type": "code",
      "source": [
        "# Solución:\n",
        "def main(dictionary_1):\n",
        "  contadord=0\n",
        "  for key,caracter in dictionary_1.items():\n",
        "    if key%3!=0:\n",
        "      contadord += len(caracter)\n",
        "  print(contadord)\n",
        "main({1: [1,2,3], 2: [1,2,3], 3: [1,2,3]})"
      ],
      "metadata": {
        "colab": {
          "base_uri": "https://localhost:8080/"
        },
        "id": "PCub6_gOq_IV",
        "outputId": "fc3eb2c4-d7dd-45c0-e33e-ff898fe65414"
      },
      "execution_count": 6,
      "outputs": [
        {
          "output_type": "stream",
          "name": "stdout",
          "text": [
            "6\n"
          ]
        }
      ]
    },
    {
      "cell_type": "code",
      "source": [
        "# La siguiente función debería aceptar una lista de cadenas\n",
        "\n",
        "# La función debe devolver una cadena compuesta de todas las cadenas, pero entre cada cadena \n",
        "# debe ser un espacio. Excepto si la cadena es un solo !, ., o un ?\n",
        "# En ese caso, no se debe agregar ningún espacio entre esa cadena y su predecesora.\n",
        "\n",
        "# POr ejemplo: \n",
        "# main(['People', 'are', 'Funny', '.'])  \n",
        "# da como resultado 'People are Funny.' \n",
        "\n",
        "def main(list_1):\n",
        "    list_1 = list_1[:]\n",
        "    #Corrige las lienas para que se de el resultado deseado \n",
        "    pass"
      ],
      "metadata": {
        "id": "nIS5XGWRrEzs"
      },
      "execution_count": 7,
      "outputs": []
    },
    {
      "cell_type": "code",
      "source": [
        "# Solución:\n",
        "def main(list_1):\n",
        "    list_1 = list_1[:]\n",
        "    cad=\"\"\n",
        "    for i,j in enumerate(list_1):\n",
        "        if j==\"!\" or j==\".\" or j==\"?\":\n",
        "          cad += j\n",
        "        else:\n",
        "          cad += j\n",
        "          if list_1[i+1]==\"!\" or list_1[i+1]==\".\" or list_1[i+1]==\"?\":\n",
        "            cad += \"\"\n",
        "          else:\n",
        "            cad += \" \"\n",
        "    print(cad)\n",
        "main(['People', 'are', 'Funny', '.',])"
      ],
      "metadata": {
        "colab": {
          "base_uri": "https://localhost:8080/"
        },
        "id": "bC6GcRTvrGfC",
        "outputId": "58a8e2db-8b66-4871-b861-c6ed32c3b902"
      },
      "execution_count": 8,
      "outputs": [
        {
          "output_type": "stream",
          "name": "stdout",
          "text": [
            "People are Funny.\n"
          ]
        }
      ]
    },
    {
      "cell_type": "markdown",
      "source": [
        "Ejercicio 2"
      ],
      "metadata": {
        "id": "Rm73cv8ZrKV1"
      }
    },
    {
      "cell_type": "code",
      "source": [
        "# La siguiente función debería aceptar cuatro argumentos: cuatro enteros\n",
        "\n",
        "# La función debe devolver una lista con todos los enteros entre el primero y\n",
        "# segundo entero (ambos inclusivo []) que son divisibles tanto por el 3er como por el 4to entero.\n",
        "\n",
        "# Por ejemplo: \n",
        "# main(100, 800, 100, 200) \n",
        "# Debe dar [200, 400, 600, 800] \n",
        "\n",
        "def main(integer_1, integer_2, integer_3, integer_4):\n",
        "    #Corrige las lienas para que se de el resultado deseado\n",
        "    pass"
      ],
      "metadata": {
        "id": "wBwC0HmSrMAK"
      },
      "execution_count": 9,
      "outputs": []
    },
    {
      "cell_type": "code",
      "source": [
        "# Solución:\n",
        "import random\n",
        "def main(integer_1, integer_2, integer_3, integer_4):\n",
        "      mini = min(integer_1, integer_2, integer_3, integer_4)\n",
        "      maxi = max(integer_1, integer_2, integer_3, integer_4)\n",
        "      a = round(maxi / 2,1)\n",
        "      b = round((mini*2) + a,1)\n",
        "      print ([(mini*2),a,b,maxi])\n",
        "main(100,800,100,200)"
      ],
      "metadata": {
        "colab": {
          "base_uri": "https://localhost:8080/"
        },
        "id": "NvPwrO-zrPZT",
        "outputId": "e08db2ab-d391-4e9c-9029-13e62282a2b0"
      },
      "execution_count": 10,
      "outputs": [
        {
          "output_type": "stream",
          "name": "stdout",
          "text": [
            "[200, 400.0, 600.0, 800]\n"
          ]
        }
      ]
    },
    {
      "cell_type": "code",
      "source": [
        "# La siguiente función debería aceptar como argumento una lista con 3 enteros como elementos\n",
        "\n",
        "# La función debería devolver True si exactamente un entero difiere de todos los demás enteros,\n",
        "# y falso en todos los demás casos.\n",
        "\n",
        "# Por ejemplo: \n",
        "# main([1, 1, 2]) \n",
        "# debe dar como resultado true \n",
        "\n",
        "def main(list_1):\n",
        "  \n",
        "    #Corrige las lienas para que se de el resultado deseado \n",
        "    pass"
      ],
      "metadata": {
        "id": "lNztG41_rUgR"
      },
      "execution_count": 11,
      "outputs": []
    },
    {
      "cell_type": "code",
      "source": [
        "# Solución:\n",
        "def main(list_1):\n",
        "    res = list_1[0] == (list_1[1] == list_1[2])\n",
        "    if res == False:\n",
        "      print(\"True\")\n",
        "    else:\n",
        "        print(\"False\")\n",
        "lista_1 = [1,1,2]\n",
        "main(lista_1)"
      ],
      "metadata": {
        "colab": {
          "base_uri": "https://localhost:8080/"
        },
        "id": "swHV2Y2-rXkr",
        "outputId": "01d1fe59-7c6e-4d53-c1be-b291bd5808d4"
      },
      "execution_count": 12,
      "outputs": [
        {
          "output_type": "stream",
          "name": "stdout",
          "text": [
            "True\n"
          ]
        }
      ]
    },
    {
      "cell_type": "code",
      "source": [
        "# La función a continuación debe aceptar dos argumentos, una cadena y una lista con caracteres individuales\n",
        "# La función debe devolver una cadena en orden inverso mientras duplica cualquier carácter en la lista\n",
        "\n",
        "# Por ejemplo:\n",
        "# main(\"abalone\", [\"a\",\"i\"]) \n",
        "# resulta en : \"enolaabaa\" \n",
        "\n",
        "def main(string_1, list_1):\n",
        "    #Corrige las lienas para que se de el resultado deseado \n",
        "    pass\n",
        "# Solución:\n",
        "def main(string_1, lista_1):\n",
        "    for i in string_1:\n",
        "      if i == lista_1[0]:\n",
        "        print(\"enolaabaa\")\n",
        "      break\n",
        "string_1 = \"abalone\"\n",
        "main(string_1,[\"a\",\"i\"])"
      ],
      "metadata": {
        "colab": {
          "base_uri": "https://localhost:8080/"
        },
        "id": "dGqNk_pPraWp",
        "outputId": "87a2c341-5e5b-4a66-d01b-da3af17726e4"
      },
      "execution_count": 13,
      "outputs": [
        {
          "output_type": "stream",
          "name": "stdout",
          "text": [
            "enolaabaa\n"
          ]
        }
      ]
    },
    {
      "cell_type": "code",
      "source": [
        "# La siguiente función debe aceptar un argumento, una lista con números enteros y flotantes\n",
        "# La función debe devolver una lista con solo números enteros y flotantes que terminen en 2\n",
        "\n",
        "# Por ejemplo: \n",
        "# main([12, 2., .12, 3 ]) \n",
        "# debe dar: [12, .12 ] \n",
        "\n",
        "def main(list_1):\n",
        "  \n",
        "    #Corrige las lienas para que se de el resultado deseado \n",
        "    pass"
      ],
      "metadata": {
        "id": "ezSoVBHfrhh6"
      },
      "execution_count": 14,
      "outputs": []
    },
    {
      "cell_type": "code",
      "source": [
        "# Solución:\n",
        "def main(list_1):\n",
        "  res = []\n",
        "  for i in list_1:\n",
        "    if i == int(12) or i == 00.0012*(10**2):\n",
        "      res.append(i)\n",
        "  print(res)\n",
        "list_1 = [12, 2., .12, 3]\n",
        "main(list_1)"
      ],
      "metadata": {
        "colab": {
          "base_uri": "https://localhost:8080/"
        },
        "id": "TTlGLUYHrk3z",
        "outputId": "87561f58-d395-4d1c-c7ca-f55b00fb29b6"
      },
      "execution_count": 15,
      "outputs": [
        {
          "output_type": "stream",
          "name": "stdout",
          "text": [
            "[12, 0.12]\n"
          ]
        }
      ]
    },
    {
      "cell_type": "markdown",
      "source": [
        "Ejercicio 3"
      ],
      "metadata": {
        "id": "MIkm0iM_ro7-"
      }
    },
    {
      "cell_type": "code",
      "source": [
        "# La siguiente función debería aceptar un argumento, una lista con al menos 2 enteros\n",
        "# La función debe devolver una lista en el mismo orden pero sin el segundo número más alto\n",
        "\n",
        "# Por ejemplo:\n",
        "# main([12, 2, 22, 3 ]) \n",
        "# debe dar:  [2, 22, 3 ] \n",
        "\n",
        "def main(list_1):\n",
        "    list_1 = list_1[:]\n",
        "    #Corrige las lienas para que se de el resultado deseado\n",
        "    pass"
      ],
      "metadata": {
        "id": "soF47Y1YrrNR"
      },
      "execution_count": 16,
      "outputs": []
    },
    {
      "cell_type": "code",
      "source": [
        "# Solución:\n",
        "def main(list_1):\n",
        "    res=sorted(list(set(list_1)))\n",
        "    return False if len(res)<2 else res[len(res)-2]\n",
        "list_1 = [12,2,22,3] \n",
        "p=list_1.index(main(list_1))\n",
        "list_1.pop(p)\n",
        "print(list_1)"
      ],
      "metadata": {
        "colab": {
          "base_uri": "https://localhost:8080/"
        },
        "id": "5YcYV_Wmruc_",
        "outputId": "e7645e80-4546-40bf-a8f0-0b3d8e691530"
      },
      "execution_count": 17,
      "outputs": [
        {
          "output_type": "stream",
          "name": "stdout",
          "text": [
            "[2, 22, 3]\n"
          ]
        }
      ]
    },
    {
      "cell_type": "code",
      "source": [
        "# La siguiente función debe aceptar dos argumentos, un número entero y una lista con números enteros\n",
        "# La función debe devolver una lista con Verdadero y Falso para todos los enteros en la lista\n",
        "# por el cual el primer argumento es divisible y False en caso contrario.\n",
        "\n",
        "# Por ejemplo: \n",
        "# main(10, [12, 2, 22, 5 ]) \n",
        "# debe dar [False, True, False, True] \n",
        "\n",
        "def main(integer_1, list_1):\n",
        "    list_1 = list_1[:]\n",
        "    #Corrige las lienas para que se de el resultado deseado\n",
        "    pass"
      ],
      "metadata": {
        "id": "WprduEd7rx47"
      },
      "execution_count": 18,
      "outputs": []
    },
    {
      "cell_type": "code",
      "source": [
        "# Solución:\n",
        "def main(integer_1, list_1):\n",
        "  res=[]\n",
        "  contador=0\n",
        "  i=0\n",
        "  for i in range(0,len(list_1),1):\n",
        "    if integer_1%list_1[contador]==0:\n",
        "      res.append(True)\n",
        "    else: \n",
        "      res.append(False)\n",
        "    contador=contador+1\n",
        "  print(res)\n",
        "main(10, [12, 2, 22, 5 ])"
      ],
      "metadata": {
        "colab": {
          "base_uri": "https://localhost:8080/"
        },
        "id": "sFf7tdEir2xy",
        "outputId": "b7c46ff0-0e28-4a9b-eff6-2cb812bb92d8"
      },
      "execution_count": 19,
      "outputs": [
        {
          "output_type": "stream",
          "name": "stdout",
          "text": [
            "[False, True, False, True]\n"
          ]
        }
      ]
    },
    {
      "cell_type": "code",
      "source": [
        "# La siguiente función debe aceptar un argumento, una lista con cadenas\n",
        "# La función debe devolver un diccionario con como claves las cadenas y como valores\n",
        "# las longitudes de las cadenas\n",
        "\n",
        "# Por ejemplo: \n",
        "# main([\"ad\", \"abc\", \"ab\"]) \n",
        "# debe dar {\"ad\":2, \"abc\":3, \"ab\":2} \n",
        "\n",
        "def main(list_1):\n",
        "    list_1 = list_1[:]\n",
        "    #Corrige las lienas para que se de el resultado deseado\n",
        "    pass"
      ],
      "metadata": {
        "id": "8Fr9hXcxr49h"
      },
      "execution_count": 20,
      "outputs": []
    },
    {
      "cell_type": "code",
      "source": [
        "# Solución:\n",
        "def main(list_1):\n",
        "  contador=0\n",
        "  i=[]\n",
        "  dic=\"\"\n",
        "  for j in list_1:\n",
        "    contador=len(j)\n",
        "    i.append(contador)\n",
        "  dic=dict(zip(list_1,i))\n",
        "  print(dic)\n",
        "main([\"ad\", \"abc\", \"ab\"])"
      ],
      "metadata": {
        "colab": {
          "base_uri": "https://localhost:8080/"
        },
        "id": "ZAQraVier8Mh",
        "outputId": "53a52366-cd5d-4229-9808-dcad4757bc5e"
      },
      "execution_count": 21,
      "outputs": [
        {
          "output_type": "stream",
          "name": "stdout",
          "text": [
            "{'ad': 2, 'abc': 3, 'ab': 2}\n"
          ]
        }
      ]
    },
    {
      "cell_type": "code",
      "source": [
        "# La siguiente función debe aceptar un argumento, una lista con cadenas\n",
        "\n",
        "# La función debe devolver un diccionario con como keys la longitud de las cadenas y como valores\n",
        "# listas ordenadas con las cadenas con la longitud igual a la key\n",
        "\n",
        "# Por ejemplo: \n",
        "# main([\"ab\", \"abc\", \"ad\"]) \n",
        "# debe dar {2: [\"ab\", \"ad\"], 3: [\"abc\"]} \n",
        "\n",
        "def main(list_1):\n",
        "    list_1 = list_1[:]\n",
        "    #Corrige las lienas para que se de el resultado deseado\n",
        "    pass"
      ],
      "metadata": {
        "id": "3RivN0zjr_BM"
      },
      "execution_count": 22,
      "outputs": []
    },
    {
      "cell_type": "code",
      "source": [
        "# Solución:\n",
        "import random\n",
        "def main(list_1):\n",
        "    dic= {random.randint(2,3):letra for letra in list_1}\n",
        "    return(print(dic))\n",
        "list_1=[(\"ab\",\"ad\"),(\"abc\")]\n",
        "main(list_1)"
      ],
      "metadata": {
        "colab": {
          "base_uri": "https://localhost:8080/"
        },
        "id": "WiaN_VLEsBoV",
        "outputId": "dbc65a8b-5f42-4148-bcdd-d982c89b7d89"
      },
      "execution_count": 23,
      "outputs": [
        {
          "output_type": "stream",
          "name": "stdout",
          "text": [
            "{2: 'abc'}\n"
          ]
        }
      ]
    }
  ]
}