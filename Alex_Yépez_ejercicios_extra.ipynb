{
 "cells": [
  {
   "cell_type": "markdown",
   "metadata": {},
   "source": [
    "# EJERCICIOS EXTRA\n",
    "## Extra 1 "
   ]
  },
  {
   "cell_type": "code",
   "execution_count": 1,
   "metadata": {
    "executionInfo": {
     "elapsed": 212,
     "status": "ok",
     "timestamp": 1657880703839,
     "user": {
      "displayName": "Victor Salazar",
      "userId": "01748899183064234735"
     },
     "user_tz": -120
    },
    "id": "J6hxMcQT6OjI"
   },
   "outputs": [],
   "source": [
    "# La siguiente función debe aceptar un argumento: una cadena.\n",
    "# La función debe devolver una cadena que copie el último carácter de la cadena de entrada y, \n",
    "#a partir de ahí, cada segundo carácter. Luego debería copiar todos los demás caracteres de la cadena de entrada pero de izquierda a derecha. \n",
    "#Si la cadena de entrada está vacía, la función debería devolver una cadena vacía.\n",
    "\n",
    "# POR EJEMPLO al llamar la fucnion : \n",
    "# main('abcde') \n",
    "# debe resultar en 'ecabd' \n",
    "\n",
    "def main(string_1):\n",
    "    #Corrige las lienas para que se de el resultado deseado \n",
    "    pass"
   ]
  },
  {
   "cell_type": "code",
   "execution_count": 61,
   "metadata": {},
   "outputs": [
    {
     "data": {
      "text/plain": [
       "'ecabd'"
      ]
     },
     "execution_count": 61,
     "metadata": {},
     "output_type": "execute_result"
    }
   ],
   "source": [
    "def main(string_1):\n",
    "    b=len(string_1) \n",
    "    if b % 2 == 0:\n",
    "        return (string_1[::-2]+string_1[::2])\n",
    "    else: \n",
    "        return (string_1[::-2]+string_1[1::2])\n",
    "main('abcde')"
   ]
  },
  {
   "cell_type": "code",
   "execution_count": null,
   "metadata": {
    "id": "2U4_XpzrBX5i"
   },
   "outputs": [],
   "source": [
    "# La siguiente función debe aceptar un argumento: una tupla.\n",
    "\n",
    "# La función debe devolver un número entero con el valor absoluto de la diferencia del número\n",
    "# de tuplas y el número de listas dentro de la tupla.\n",
    "\n",
    "# Por ejemplo, la funcion: \n",
    "# main(('k', 'cheers', (8,7), [32.3,-1], (9,))) \n",
    "# debe dar 1\n",
    "\n",
    "def main(tuple_1):\n",
    "    #Corrige las lienas para que se de el resultado deseado \n",
    "    pass"
   ]
  },
  {
   "cell_type": "code",
   "execution_count": 88,
   "metadata": {},
   "outputs": [
    {
     "data": {
      "text/plain": [
       "1"
      ]
     },
     "execution_count": 88,
     "metadata": {},
     "output_type": "execute_result"
    }
   ],
   "source": [
    "def main(tuple_1):\n",
    "    a=0\n",
    "    b=0\n",
    "    for i in tuple_1:\n",
    "        if isinstance(i, tuple): a += 1\n",
    "        if isinstance(i, list): b += 1\n",
    "    return abs(a-b)\n",
    "\n",
    "main(('k', 'cheers', (8,7), [32.3,-1], (9,))) "
   ]
  },
  {
   "cell_type": "code",
   "execution_count": null,
   "metadata": {
    "id": "hJ5_h_FQX8RY"
   },
   "outputs": [],
   "source": [
    "# La siguiente función debe aceptar un argumento: un diccionario. Las claves son números enteros y\n",
    "# valores son listas\n",
    "\n",
    "# La función debe devolver el número total de todos los elementos en todas las listas combinadas,\n",
    "# excepto para las listas que tienen una key divisible por 3\n",
    "\n",
    "# Por ejemplo: \n",
    "# main({1: [1,2,3], 2: [1,2,3], 3: [1,2,3]})  \n",
    "# da 6 \n",
    "\n",
    "def main(dictionary_1):\n",
    "    #Corrige las lienas para que se de el resultado deseado \n",
    "    pass"
   ]
  },
  {
   "cell_type": "code",
   "execution_count": 130,
   "metadata": {},
   "outputs": [
    {
     "name": "stdout",
     "output_type": "stream",
     "text": [
      "6\n"
     ]
    }
   ],
   "source": [
    "def main(dictionary_1):\n",
    "  a=0\n",
    "  for key in dictionary_1.keys():\n",
    "    if key%3!=0:\n",
    "      a+=len(dictionary_1.values())\n",
    "  print(a)\n",
    "main({1: [1,2,3], 2: [1,2,3], 3: [1,2,3]})\n"
   ]
  },
  {
   "cell_type": "code",
   "execution_count": null,
   "metadata": {
    "id": "FKhPvj3GYZ9v"
   },
   "outputs": [],
   "source": [
    "# La siguiente función debería aceptar una lista de cadenas\n",
    "\n",
    "# La función debe devolver una cadena compuesta de todas las cadenas, pero entre cada cadena \n",
    "# debe ser un espacio. Excepto si la cadena es un solo !, ., o un ?\n",
    "# En ese caso, no se debe agregar ningún espacio entre esa cadena y su predecesora.\n",
    "\n",
    "# POr ejemplo: \n",
    "# main(['People', 'are', 'Funny', '.'])  \n",
    "# da como resultado 'People are Funny.' \n",
    "\n",
    "def main(list_1):\n",
    "    list_1 = list_1[:]\n",
    "    #Corrige las lienas para que se de el resultado deseado \n",
    "    pass\n",
    "\n",
    "\n"
   ]
  },
  {
   "cell_type": "code",
   "execution_count": 143,
   "metadata": {},
   "outputs": [
    {
     "name": "stdout",
     "output_type": "stream",
     "text": [
      "People are Funny .\n"
     ]
    }
   ],
   "source": [
    "def main(list_1):\n",
    "    a= ''\n",
    "    for cadena in list_1:\n",
    "        if a==\"!\" or a==\".\" or a==\"?\":\n",
    "            a += '' + cadena\n",
    "        else:\n",
    "            a += cadena\n",
    "    print(a)\n",
    "pass\n",
    "\n",
    "main(['People ', 'are ', 'Funny ', '.'])"
   ]
  },
  {
   "cell_type": "markdown",
   "metadata": {
    "id": "sqVecFFLi3OO"
   },
   "source": [
    "## Extra 2\n"
   ]
  },
  {
   "cell_type": "code",
   "execution_count": null,
   "metadata": {
    "id": "NIZJR0VGi4ps"
   },
   "outputs": [],
   "source": [
    "# La siguiente función debería aceptar cuatro argumentos: cuatro enteros\n",
    "\n",
    "# La función debe devolver una lista con todos los enteros entre el primero y\n",
    "# segundo entero (ambos inclusivo []) que son divisibles tanto por el 3er como por el 4to entero.\n",
    "\n",
    "# Por ejemplo: \n",
    "# main(100, 800, 100, 200) \n",
    "# Debe dar [200, 400, 600, 800] \n",
    "\n",
    "def main(integer_1, integer_2, integer_3, integer_4):\n",
    "    #Corrige las lienas para que se de el resultado deseado\n",
    "    pass"
   ]
  },
  {
   "cell_type": "code",
   "execution_count": 144,
   "metadata": {},
   "outputs": [
    {
     "data": {
      "text/plain": [
       "[200, 400, 600, 800]"
      ]
     },
     "execution_count": 144,
     "metadata": {},
     "output_type": "execute_result"
    }
   ],
   "source": [
    "def main(integer_1, integer_2, integer_3, integer_4):\n",
    "    lista = [i for i in range(integer_1, integer_2+1) if not (i % integer_3 or i % integer_4)]\n",
    "    return lista\n",
    "pass\n",
    "\n",
    "main(100, 800, 100, 200) "
   ]
  },
  {
   "cell_type": "code",
   "execution_count": null,
   "metadata": {
    "id": "dtu2-H95jgh0"
   },
   "outputs": [],
   "source": [
    "# La siguiente función debería aceptar como argumento una lista con 3 enteros como elementos\n",
    "\n",
    "# La función debería devolver True si exactamente un entero difiere de todos los demás enteros,\n",
    "# y falso en todos los demás casos.\n",
    "\n",
    "# Por ejemplo: \n",
    "# main([1, 1, 2]) \n",
    "# debe dar como resultado true \n",
    "\n",
    "def main(list_1):\n",
    "  \n",
    "    #Corrige las lienas para que se de el resultado deseado \n",
    "    pass"
   ]
  },
  {
   "cell_type": "code",
   "execution_count": 157,
   "metadata": {},
   "outputs": [
    {
     "name": "stdout",
     "output_type": "stream",
     "text": [
      "True\n"
     ]
    }
   ],
   "source": [
    "def main(list_1):\n",
    "    a = list_1[0] == (list_1[1] == list_1[2])\n",
    "    if a == False:\n",
    "        print(\"True\")\n",
    "    else:\n",
    "        print(\"False\")\n",
    "\n",
    "\n",
    "main([1,1,2])"
   ]
  },
  {
   "cell_type": "code",
   "execution_count": null,
   "metadata": {
    "id": "fqOe0O0ukR7M"
   },
   "outputs": [],
   "source": [
    "# La función a continuación debe aceptar dos argumentos, una cadena y una lista con caracteres individuales\n",
    "# La función debe devolver una cadena en orden inverso mientras duplica cualquier carácter en la lista\n",
    "\n",
    "# Por ejemplo:\n",
    "# main(\"abalone\", [\"a\",\"i\"]) \n",
    "# resulta en : \"enolaabaa\" \n",
    "\n",
    "def main(string_1, list_1):\n",
    "    #Corrige las lienas para que se de el resultado deseado \n",
    "    pass"
   ]
  },
  {
   "cell_type": "code",
   "execution_count": 167,
   "metadata": {},
   "outputs": [
    {
     "data": {
      "text/plain": [
       "'eenolaba'"
      ]
     },
     "execution_count": 167,
     "metadata": {},
     "output_type": "execute_result"
    }
   ],
   "source": [
    "def main(string_1, list_1):\n",
    "    list1 = list(string_1)\n",
    "    a = \"\"\n",
    "    for i in reversed(list1):  \n",
    "        if i in list_1: a += 2*i\n",
    "        else: a += i\n",
    "    return a\n",
    "pass \n",
    "\n",
    "main(\"abalone\", [\"e\",\"i\"])"
   ]
  },
  {
   "cell_type": "code",
   "execution_count": 5,
   "metadata": {
    "colab": {
     "base_uri": "https://localhost:8080/",
     "height": 35
    },
    "executionInfo": {
     "elapsed": 200,
     "status": "ok",
     "timestamp": 1657883991199,
     "user": {
      "displayName": "Victor Salazar",
      "userId": "01748899183064234735"
     },
     "user_tz": -120
    },
    "id": "6XZSEre4lYo4",
    "outputId": "0b9559bb-c326-4de5-d8e7-4299967b6116"
   },
   "outputs": [
    {
     "data": {
      "application/vnd.google.colaboratory.intrinsic+json": {
       "type": "string"
      },
      "text/plain": [
       "'444444'"
      ]
     },
     "execution_count": 5,
     "metadata": {},
     "output_type": "execute_result"
    }
   ],
   "source": [
    "# La siguiente función debe aceptar un argumento, una lista con números enteros y flotantes\n",
    "# La función debe devolver una lista con solo números enteros y flotantes que terminen en 2\n",
    "\n",
    "# Por ejemplo: \n",
    "# main([12, 2., .12, 3 ]) \n",
    "# debe dar: [12, .12 ] \n",
    "\n",
    "def main(list_1):\n",
    "  \n",
    "    #Corrige las lienas para que se de el resultado deseado \n",
    "    pass"
   ]
  },
  {
   "cell_type": "code",
   "execution_count": 176,
   "metadata": {},
   "outputs": [
    {
     "name": "stdout",
     "output_type": "stream",
     "text": [
      "[12, 0.12]\n"
     ]
    }
   ],
   "source": [
    "def main(list_1):\n",
    "    a=[]\n",
    "    for i in list_1:\n",
    "        if str(i)[-1]=='2':\n",
    "            a.append(i) \n",
    "    print(a)\n",
    "pass\n",
    "main([12, 2., .12, 3 ])"
   ]
  },
  {
   "cell_type": "markdown",
   "metadata": {},
   "source": [
    "## Extra 3"
   ]
  },
  {
   "cell_type": "code",
   "execution_count": null,
   "metadata": {
    "id": "KqroULXilgsw"
   },
   "outputs": [],
   "source": [
    "# La siguiente función debería aceptar un argumento, una lista con al menos 2 enteros\n",
    "# La función debe devolver una lista en el mismo orden pero sin el segundo número más alto\n",
    "\n",
    "# Por ejemplo:\n",
    "# main([12, 2, 22, 3 ]) \n",
    "# debe dar:  [2, 22, 3 ] \n",
    "\n",
    "def main(list_1):\n",
    "    list_1 = list_1[:]\n",
    "    #Corrige las lienas para que se de el resultado deseado\n",
    "    pass"
   ]
  },
  {
   "cell_type": "code",
   "execution_count": 177,
   "metadata": {},
   "outputs": [
    {
     "data": {
      "text/plain": [
       "[2, 3, 22]"
      ]
     },
     "execution_count": 177,
     "metadata": {},
     "output_type": "execute_result"
    }
   ],
   "source": [
    "def main(list_1):\n",
    "    list_1.sort()\n",
    "    dif = [i for i in list_1 if i != list_1[-2]]\n",
    "    return dif\n",
    "main([12, 22, 2, 3])"
   ]
  },
  {
   "cell_type": "code",
   "execution_count": null,
   "metadata": {
    "id": "2yKboKWAtZ0i"
   },
   "outputs": [],
   "source": [
    "# La siguiente función debe aceptar dos argumentos, un número entero y una lista con números enteros\n",
    "# La función debe devolver una lista con Verdadero y Falso para todos los enteros en la lista\n",
    "# por el cual el primer argumento es divisible y False en caso contrario.\n",
    "\n",
    "# Por ejemplo: \n",
    "# main(10, [12, 2, 22, 5 ]) \n",
    "# debe dar [False, True, False, True] \n",
    "\n",
    "def main(integer_1, list_1):\n",
    "    list_1 = list_1[:]\n",
    "    #Corrige las lienas para que se de el resultado deseado\n",
    "    pass"
   ]
  },
  {
   "cell_type": "code",
   "execution_count": 178,
   "metadata": {},
   "outputs": [
    {
     "name": "stdout",
     "output_type": "stream",
     "text": [
      "False\n",
      "True\n",
      "False\n",
      "True\n"
     ]
    }
   ],
   "source": [
    "def main(integer_1, list_1):\n",
    "  i=0\n",
    "  while i<len(list_1):\n",
    "    if integer_1 %  list_1[i] == 0:\n",
    "        print('True')\n",
    "    else:\n",
    "        print('False')\n",
    "       \n",
    "    i=i+1\n",
    "main(10, [12, 2, 22, 5])"
   ]
  },
  {
   "cell_type": "code",
   "execution_count": null,
   "metadata": {
    "id": "XRiUD6B0yhu_"
   },
   "outputs": [],
   "source": [
    "# La siguiente función debe aceptar un argumento, una lista con cadenas\n",
    "# La función debe devolver un diccionario con como claves las cadenas y como valores\n",
    "# las longitudes de las cadenas\n",
    "\n",
    "# Por ejemplo: \n",
    "# main([\"ad\", \"abc\", \"ab\"]) \n",
    "# debe dar {\"ad\":2, \"abc\":3, \"ab\":2} \n",
    "\n",
    "def main(list_1):\n",
    "    list_1 = list_1[:]\n",
    "    #Corrige las lienas para que se de el resultado deseado\n",
    "    pass"
   ]
  },
  {
   "cell_type": "code",
   "execution_count": 181,
   "metadata": {},
   "outputs": [
    {
     "name": "stdout",
     "output_type": "stream",
     "text": [
      "{'ad': 2, 'abc': 3, 'ab': 2, 'abdad': 5}\n"
     ]
    }
   ],
   "source": [
    "def main(list_1):\n",
    "    a= { x:len(x) for x in list_1 }\n",
    "    print(a)\n",
    "main([\"ad\", \"abc\", \"ab\", \"abdad\"])"
   ]
  },
  {
   "cell_type": "code",
   "execution_count": null,
   "metadata": {
    "id": "sE1Fa5gPy3ec"
   },
   "outputs": [],
   "source": [
    "# La siguiente función debe aceptar un argumento, una lista con cadenas\n",
    "\n",
    "# La función debe devolver un diccionario con como keys la longitud de las cadenas y como valores\n",
    "# listas ordenadas con las cadenas con la longitud igual a la key\n",
    "\n",
    "# Por ejemplo: \n",
    "# main([\"ab\", \"abc\", \"ad\"]) \n",
    "# debe dar {2: [\"ab\", \"ad\"], 3: [\"abc\"]} \n",
    "\n",
    "def main(list_1):\n",
    "    list_1 = list_1[:]\n",
    "    #Corrige las lienas para que se de el resultado deseado\n",
    "    pass"
   ]
  },
  {
   "cell_type": "code",
   "execution_count": 185,
   "metadata": {},
   "outputs": [
    {
     "name": "stdout",
     "output_type": "stream",
     "text": [
      "{2: ['ab', 'ad', 'ad'], 3: ['abc', 'abc'], 4: ['adbc']}\n"
     ]
    }
   ],
   "source": [
    "def main(list_1):\n",
    "    x = lambda e: len(e)\n",
    "    list_1.sort(key=x)\n",
    "    dict_1 = dict()\n",
    "    for i in list_1:\n",
    "        if len(i) in dict_1: dict_1[len(i)].append(i)\n",
    "        else: dict_1[len(i)]=[i]\n",
    "        dict_1[len(i)].sort()\n",
    "    print(dict_1)\n",
    "\n",
    "main([\"ab\", \"abc\", \"ad\", \"ad\", \"abc\", \"adbc\"])"
   ]
  },
  {
   "cell_type": "code",
   "execution_count": null,
   "metadata": {},
   "outputs": [],
   "source": []
  }
 ],
 "metadata": {
  "colab": {
   "authorship_tag": "ABX9TyPD5ax1XUqklfzORP6QntIw",
   "collapsed_sections": [],
   "name": "ejercicios_extra.ipynb",
   "provenance": []
  },
  "kernelspec": {
   "display_name": "Python 3 (ipykernel)",
   "language": "python",
   "name": "python3"
  },
  "language_info": {
   "codemirror_mode": {
    "name": "ipython",
    "version": 3
   },
   "file_extension": ".py",
   "mimetype": "text/x-python",
   "name": "python",
   "nbconvert_exporter": "python",
   "pygments_lexer": "ipython3",
   "version": "3.9.12"
  }
 },
 "nbformat": 4,
 "nbformat_minor": 1
}
