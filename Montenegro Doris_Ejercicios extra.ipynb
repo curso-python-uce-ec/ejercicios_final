{
  "nbformat": 4,
  "nbformat_minor": 0,
  "metadata": {
    "colab": {
      "name": "Untitled0.ipynb",
      "provenance": [],
      "collapsed_sections": []
    },
    "kernelspec": {
      "name": "python3",
      "display_name": "Python 3"
    },
    "language_info": {
      "name": "python"
    }
  },
  "cells": [
    {
      "cell_type": "markdown",
      "source": [
        "**Ejercicios Extra**"
      ],
      "metadata": {
        "id": "ifL6KXrdteEa"
      }
    },
    {
      "cell_type": "markdown",
      "source": [
        "Nombre: Doris Montenegro"
      ],
      "metadata": {
        "id": "0CmMlM0-toz-"
      }
    },
    {
      "cell_type": "code",
      "source": [
        "# La siguiente función debe aceptar un argumento: una cadena.\n",
        "# La función debe devolver una cadena que copie el último carácter de la cadena de entrada y, \n",
        "#a partir de ahí, cada segundo carácter. Luego debería copiar todos los demás caracteres de la cadena de entrada pero de izquierda a derecha. \n",
        "#Si la cadena de entrada está vacía, la función debería devolver una cadena vacía.\n",
        "\n",
        "# POR EJEMPLO al llamar la fucnion : \n",
        "# main('abcde') \n",
        "# debe resultar en 'ecabd' \n",
        "\n",
        "#cadena=\"hola\"\n",
        "#print(cadena[0])\n",
        "\n",
        "def main(string_1):\n",
        "    #Corrige las lineas para que se de el resultado deseado \n",
        "    pass"
      ],
      "metadata": {
        "id": "IxfYRms_txeg"
      },
      "execution_count": null,
      "outputs": []
    },
    {
      "cell_type": "code",
      "source": [
        "#Resultado 1\n",
        "def main(ejercicio1):\n",
        "  dato=ejercicio1[len(ejercicio1)+1::-1]\n",
        "  resultado=\"\"\n",
        "  for x,y in enumerate(dato):\n",
        "      if x%2==0:\n",
        "        resultado += y\n",
        "  for x,y in enumerate(ejercicio1):\n",
        "    if x%2==1:\n",
        "      resultado += y\n",
        "  print(resultado)\n",
        "\n",
        "main(\"abcde\")"
      ],
      "metadata": {
        "colab": {
          "base_uri": "https://localhost:8080/"
        },
        "id": "c5aCG-kUuUqp",
        "outputId": "e0157c0b-d133-4de4-8553-a6a1d5fcbcfa"
      },
      "execution_count": 3,
      "outputs": [
        {
          "output_type": "stream",
          "name": "stdout",
          "text": [
            "ecabd\n"
          ]
        }
      ]
    },
    {
      "cell_type": "code",
      "source": [
        "# La siguiente función debe aceptar un argumento: una tupla.\n",
        "\n",
        "# La función debe devolver un número entero con el valor absoluto de la diferencia del número\n",
        "# de tuplas y el número de listas dentro de la tupla.\n",
        "\n",
        "# Por ejemplo, la funcion: \n",
        "# main(('k', 'cheers', (8,7), [32.3,-1], (9,))) \n",
        "# debe dar 1\n",
        "\n",
        "def main(tuple_1):\n",
        "    #Corrige las lienas para que se de el resultado deseado \n",
        "    pass"
      ],
      "metadata": {
        "id": "UEWmzuQpxqb3"
      },
      "execution_count": 5,
      "outputs": []
    },
    {
      "cell_type": "code",
      "source": [
        "#Resultado\n",
        "def main(ejercicio2):\n",
        "    tupla, lista = 0, 0\n",
        "    for numero in ejercicio2:\n",
        "        if isinstance(numero, tuple): tupla += 1\n",
        "        elif isinstance(numero, list): lista += 1\n",
        "    return abs(tupla-lista)\n",
        "\n",
        "main(('Doris', 'Carla', (3,8), [ 4, -6], (111,)))"
      ],
      "metadata": {
        "colab": {
          "base_uri": "https://localhost:8080/"
        },
        "id": "9LL2ohv5x9Ot",
        "outputId": "0588502e-0a97-49c9-9d59-49dccc31c799"
      },
      "execution_count": 6,
      "outputs": [
        {
          "output_type": "execute_result",
          "data": {
            "text/plain": [
              "1"
            ]
          },
          "metadata": {},
          "execution_count": 6
        }
      ]
    },
    {
      "cell_type": "code",
      "source": [
        "# La siguiente función debe aceptar un argumento: un diccionario. Las claves son números enteros y\n",
        "# valores son listas\n",
        "\n",
        "# La función debe devolver el número total de todos los elementos en todas las listas combinadas,\n",
        "# excepto para las listas que tienen una key divisible por 3\n",
        "\n",
        "# Por ejemplo: \n",
        "# main({1: [1,2,3], 2: [1,2,3], 3: [1,2,3]})  \n",
        "# da 6 \n",
        "\n",
        "def main(dictionary_1):\n",
        "    #Corrige las lienas para que se de el resultado deseado \n",
        "    pass"
      ],
      "metadata": {
        "id": "tob5_DNkzHzq"
      },
      "execution_count": null,
      "outputs": []
    },
    {
      "cell_type": "code",
      "source": [
        "#Resultado\n",
        "def main(ejercicio3):\n",
        "  c=0\n",
        "  for key,char in ejercicio3.items():\n",
        "    if key%3!=0:\n",
        "      c += len(char)   \n",
        "  print(c)\n",
        "\n",
        "main({1: [0,0,0], 2: [1,1,1], 3: [2,2,2]})"
      ],
      "metadata": {
        "colab": {
          "base_uri": "https://localhost:8080/"
        },
        "id": "juM5m42yzLhS",
        "outputId": "97dc5194-dced-4836-eb72-8cabaa6ed5f1"
      },
      "execution_count": 7,
      "outputs": [
        {
          "output_type": "stream",
          "name": "stdout",
          "text": [
            "6\n"
          ]
        }
      ]
    },
    {
      "cell_type": "code",
      "source": [
        "# La siguiente función debería aceptar una lista de cadenas\n",
        "\n",
        "# La función debe devolver una cadena compuesta de todas las cadenas, pero entre cada cadena \n",
        "# debe ser un espacio. Excepto si la cadena es un solo !, ., o un ?\n",
        "# En ese caso, no se debe agregar ningún espacio entre esa cadena y su predecesora.\n",
        "\n",
        "# POr ejemplo: \n",
        "# main(['People', 'are', 'Funny', '.'])  \n",
        "# da como resultado 'People are Funny.'"
      ],
      "metadata": {
        "id": "z2pt8gMGz09I"
      },
      "execution_count": null,
      "outputs": []
    },
    {
      "cell_type": "code",
      "source": [
        "#Resultado\n",
        "def main(ejercicio4):\n",
        "    ejercicio4 = ejercicio4[:]\n",
        "    signo=\"\"\n",
        "    for x,y in enumerate(ejercicio4):\n",
        "        if y==\"!\" or y==\".\" or y==\"?\":\n",
        "          signo += y\n",
        "        else:\n",
        "          signo += y\n",
        "          if ejercicio4[x+1]==\"!\" or ejercicio4[x+1]==\".\" or ejercicio4[x+1]==\"?\":\n",
        "            signo += \"\"\n",
        "          else:\n",
        "            signo += \" \"\n",
        "    print(signo)\n",
        "main(['Hola', 'amigos', 'mios', '.'])"
      ],
      "metadata": {
        "colab": {
          "base_uri": "https://localhost:8080/"
        },
        "id": "PAah-mldz8DL",
        "outputId": "71388fb5-ceb7-4c3a-fb6a-c78a654a3941"
      },
      "execution_count": 14,
      "outputs": [
        {
          "output_type": "stream",
          "name": "stdout",
          "text": [
            "Hola amigos mios.\n"
          ]
        }
      ]
    },
    {
      "cell_type": "markdown",
      "source": [
        "Extra 2"
      ],
      "metadata": {
        "id": "YLkcQ6Dy3AQQ"
      }
    },
    {
      "cell_type": "code",
      "source": [
        "# La siguiente función debería aceptar cuatro argumentos: cuatro enteros\n",
        "\n",
        "# La función debe devolver una lista con todos los enteros entre el primero y\n",
        "# segundo entero (ambos inclusivo []) que son divisibles tanto por el 3er como por el 4to entero.\n",
        "\n",
        "# Por ejemplo: \n",
        "# main(100, 800, 100, 200) \n",
        "# Debe dar [200, 400, 600, 800] \n",
        "\n",
        "def main(integer_1, integer_2, integer_3, integer_4):\n",
        "    #Corrige las lienas para que se de el resultado deseado\n",
        "    pass"
      ],
      "metadata": {
        "id": "eMWcG3aZ3Hqu"
      },
      "execution_count": null,
      "outputs": []
    },
    {
      "cell_type": "code",
      "source": [
        "#Resultado\n",
        "def f_devolucion(numeros):\n",
        "    n_numeros =[]\n",
        "    n_num = []\n",
        "    num = 0\n",
        "    for n in numeros:\n",
        "        while num>=0 and num< numeros[1]:\n",
        "            num += numeros[0]\n",
        "            n_numeros.append(num)\n",
        "    for j in n_numeros:\n",
        "        if j % numeros[2] == 0 and j % numeros[3] == 0:\n",
        "            n_num.append(j)\n",
        "    print(n_num)\n",
        "Numeros =[100,800,100,200]\n",
        "f_devolucion(Numeros)"
      ],
      "metadata": {
        "colab": {
          "base_uri": "https://localhost:8080/"
        },
        "id": "7suQdkLb3Lk0",
        "outputId": "b0de2bcc-620a-4d0a-ec1d-604086a6117a"
      },
      "execution_count": 15,
      "outputs": [
        {
          "output_type": "stream",
          "name": "stdout",
          "text": [
            "[200, 400, 600, 800]\n"
          ]
        }
      ]
    },
    {
      "cell_type": "code",
      "source": [
        "# La siguiente función debería aceptar como argumento una lista con 3 enteros como elementos\n",
        "\n",
        "# La función debería devolver True si exactamente un entero difiere de todos los demás enteros,\n",
        "# y falso en todos los demás casos.\n",
        "\n",
        "# Por ejemplo: \n",
        "# main([1, 1, 2]) \n",
        "# debe dar como resultado true \n",
        "\n",
        "def main(list_1):\n",
        "  \n",
        "    #Corrige las lienas para que se de el resultado deseado \n",
        "    pass"
      ],
      "metadata": {
        "id": "JEPnoA-D4D3a"
      },
      "execution_count": null,
      "outputs": []
    },
    {
      "cell_type": "code",
      "source": [
        "#Resultado\n",
        "def f_lista (ejercicio6):\n",
        "    if len(ejercicio6) - len(set(ejercicio6)) ==0:\n",
        "        print(\"FALSE\")\n",
        "    elif len(ejercicio6) - len(set(ejercicio6))>=1:\n",
        "        if len(set(ejercicio6))==2:\n",
        "            print (\"TRUE\")\n",
        "        else:\n",
        "            print(\"FALSE\")\n",
        "Lista=[6, 7, 20]\n",
        "f_lista(Lista)"
      ],
      "metadata": {
        "colab": {
          "base_uri": "https://localhost:8080/"
        },
        "id": "_OxukjyH4HeL",
        "outputId": "7ab92403-f06a-4b2c-d117-215c6d223001"
      },
      "execution_count": 18,
      "outputs": [
        {
          "output_type": "stream",
          "name": "stdout",
          "text": [
            "FALSE\n"
          ]
        }
      ]
    },
    {
      "cell_type": "code",
      "source": [
        "# La función a continuación debe aceptar dos argumentos, una cadena y una lista con caracteres individuales\n",
        "# La función debe devolver una cadena en orden inverso mientras duplica cualquier carácter en la lista\n",
        "\n",
        "# Por ejemplo:\n",
        "# main(\"abalone\", [\"a\",\"i\"]) \n",
        "# resulta en : \"enolaabaa\""
      ],
      "metadata": {
        "id": "hEGca0xL4506"
      },
      "execution_count": null,
      "outputs": []
    },
    {
      "cell_type": "code",
      "source": [
        "def main(x, y):\n",
        "  ejercicio7=\"\"\n",
        "  frase=x[len(x)+1::-1]\n",
        "  for letra in frase:\n",
        "    ejercicio7 += letra\n",
        "    for b in y:\n",
        "      if letra==b:\n",
        "        ejercicio7 += letra\n",
        "  print(ejercicio7)\n",
        "main(\"Montenegro\", [\"e\",\"o\"])"
      ],
      "metadata": {
        "colab": {
          "base_uri": "https://localhost:8080/"
        },
        "id": "G19Wofi749QQ",
        "outputId": "ded83205-a0de-4dbb-95da-ecfb41daa5ca"
      },
      "execution_count": 21,
      "outputs": [
        {
          "output_type": "stream",
          "name": "stdout",
          "text": [
            "oorgeeneetnooM\n"
          ]
        }
      ]
    },
    {
      "cell_type": "code",
      "source": [
        "# La siguiente función debe aceptar un argumento, una lista con números enteros y flotantes\n",
        "# La función debe devolver una lista con solo números enteros y flotantes que terminan en 2\n",
        "\n",
        "# Por ejemplo:\n",
        "# principal([12, 2., .12, 3 ])\n",
        "# debe dar: [12, .12 ]"
      ],
      "metadata": {
        "id": "2jLmMpiy6cgl"
      },
      "execution_count": null,
      "outputs": []
    },
    {
      "cell_type": "code",
      "source": [
        "#Resultado\n",
        "def main(ejercicio8):\n",
        "  resultado = []\n",
        "  for paso in ejercicio8:\n",
        "    if paso == int(12) or paso == 00.0012*(10**2):\n",
        "      resultado.append(paso)\n",
        "  print(resultado)\n",
        "ejercicio8 = [12, 2.,  .12, 3]\n",
        "main(ejercicio8)"
      ],
      "metadata": {
        "colab": {
          "base_uri": "https://localhost:8080/"
        },
        "id": "0ZYJ7CkE6dK3",
        "outputId": "411f0ca8-9332-4e1d-e891-967c5775ae9d"
      },
      "execution_count": 25,
      "outputs": [
        {
          "output_type": "stream",
          "name": "stdout",
          "text": [
            "[12, 0.12]\n"
          ]
        }
      ]
    },
    {
      "cell_type": "markdown",
      "source": [
        "Extra 3"
      ],
      "metadata": {
        "id": "Lnq3gW9Y7NAI"
      }
    },
    {
      "cell_type": "code",
      "source": [
        "# La siguiente función debería aceptar un argumento, una lista con al menos 2 enteros\n",
        "# La función debe devolver una lista en el mismo orden pero sin el segundo número más alto\n",
        "\n",
        "# Por ejemplo:\n",
        "# main([12, 2, 22, 3 ]) \n",
        "# debe dar:  [2, 22, 3 ] \n",
        "\n",
        "def main(list_1):\n",
        "    list_1 = list_1[:]\n",
        "    #Corrige las lienas para que se de el resultado deseado\n",
        "    pass"
      ],
      "metadata": {
        "id": "oiYo6HHd7OA6"
      },
      "execution_count": null,
      "outputs": []
    },
    {
      "cell_type": "code",
      "source": [
        "#Resultado\n",
        "def main(ejercicio9):\n",
        "    s=sorted(list(set(ejercicio9)))\n",
        "    return False if len(s)<2 else s[len(s)-2]\n",
        "list9 = [56,35,67,45] \n",
        "a=main(list9)\n",
        "p=list9.index(a)\n",
        "list9.pop(p)\n",
        "print(list9)"
      ],
      "metadata": {
        "colab": {
          "base_uri": "https://localhost:8080/"
        },
        "id": "tcQxiBuS7Qxu",
        "outputId": "40700192-8e7f-4285-82f3-bcac0dee0d0d"
      },
      "execution_count": 31,
      "outputs": [
        {
          "output_type": "stream",
          "name": "stdout",
          "text": [
            "[35, 67, 45]\n"
          ]
        }
      ]
    },
    {
      "cell_type": "code",
      "source": [
        "# La siguiente función debe aceptar dos argumentos, un número entero y una lista con números enteros\n",
        "# La función debe devolver una lista con Verdadero y Falso para todos los enteros en la lista\n",
        "# por el cual el primer argumento es divisible y False en caso contrario.\n",
        "\n",
        "# Por ejemplo: \n",
        "# main(10, [12, 2, 22, 5 ]) \n",
        "# debe dar [False, True, False, True] \n",
        "def main(integer_1, list_1):\n",
        "    list_1 = list_1[:]\n",
        "    #Corrige las lienas para que se de el resultado deseado\n",
        "    pass"
      ],
      "metadata": {
        "id": "bgWf5umY7TZs"
      },
      "execution_count": null,
      "outputs": []
    },
    {
      "cell_type": "code",
      "source": [
        "#Resultado\n",
        "def main(x, y):\n",
        "  ejercicio10=[]\n",
        "  for num in y:\n",
        "    if x%num==0:\n",
        "      ejercicio10.append(True)\n",
        "    else: \n",
        "      ejercicio10.append(False)\n",
        "  print(ejercicio10)\n",
        "main(10, [12, 2, 22, 5 ])"
      ],
      "metadata": {
        "colab": {
          "base_uri": "https://localhost:8080/"
        },
        "id": "2aVpfZZw7Ygy",
        "outputId": "7cc151d5-735d-46d7-bf4d-e5b170cc58e7"
      },
      "execution_count": 33,
      "outputs": [
        {
          "output_type": "stream",
          "name": "stdout",
          "text": [
            "[False, True, False, True]\n"
          ]
        }
      ]
    },
    {
      "cell_type": "code",
      "source": [
        "# La siguiente función debe aceptar un argumento, una lista con cadenas\n",
        "\n",
        "# La función debe devolver un diccionario con como keys la longitud de las cadenas y como valores\n",
        "# listas ordenadas con las cadenas con la longitud igual a la key\n",
        "\n",
        "# Por ejemplo: \n",
        "# main([\"ab\", \"abc\", \"ad\"]) \n",
        "# debe dar {2: [\"ab\", \"ad\"], 3: [\"abc\"]}"
      ],
      "metadata": {
        "id": "TDNnhlkk7dSw"
      },
      "execution_count": null,
      "outputs": []
    },
    {
      "cell_type": "code",
      "source": [
        "def main(list_1):\n",
        "    list_1 = list_1[:]\n",
        "    #Corrige las lienas para que se de el resultado deseado\n",
        "    pass"
      ],
      "metadata": {
        "id": "WBFzMe7q7f9I"
      },
      "execution_count": null,
      "outputs": []
    },
    {
      "cell_type": "code",
      "source": [
        "#Resultado\n",
        "def main(ejercicio11):\n",
        "  valor=0\n",
        "  tam=[]\n",
        "  tam2=[]\n",
        "  i=0\n",
        "  dic=\"\"\n",
        "  for i in ejercicio11:\n",
        "    valor=len(i)\n",
        "    for j in ejercicio11:\n",
        "      valor1=len(j)\n",
        "      if valor==valor1:\n",
        "          tam.append(j)\n",
        "      else:\n",
        "          tam2.append(j)\n",
        "          valor2=len(j)\n",
        "    print(f\"Solución del ejercicio: \"\"{\",valor,tam,valor2,tam2,\"}\")\n",
        "    break\n",
        "main([\"ab\", \"abc\", \"ad\"])"
      ],
      "metadata": {
        "colab": {
          "base_uri": "https://localhost:8080/"
        },
        "id": "CZj3dmrN7iX4",
        "outputId": "17b653eb-7074-47a2-ed55-6badd9f55646"
      },
      "execution_count": 34,
      "outputs": [
        {
          "output_type": "stream",
          "name": "stdout",
          "text": [
            "Solución del ejercicio: { 2 ['ab', 'ad'] 3 ['abc'] }\n"
          ]
        }
      ]
    },
    {
      "cell_type": "code",
      "source": [
        "# La siguiente función debe aceptar un argumento, una lista con cadenas\n",
        "# La función debe devolver un diccionario con como claves las cadenas y como valores\n",
        "# las longitudes de las cadenas\n",
        "\n",
        "# Por ejemplo:\n",
        "# main([\"anuncio\", \"abc\", \"ab\"])\n",
        "# debe dar {\"ad\":2, \"abc\":3, \"ab\":2}\n",
        "\n",
        "def  principal ( lista_1 ):\n",
        "    lista_1  =  lista_1 [:]\n",
        "    #Corrige las mentiras para que se de el resultado deseado\n",
        "    pass"
      ],
      "metadata": {
        "id": "OR6oE14p7nDN"
      },
      "execution_count": null,
      "outputs": []
    },
    {
      "cell_type": "code",
      "source": [
        "#Resultado\n",
        "def main(ejercicio12):\n",
        "  valor=0\n",
        "  values=[]\n",
        "  dic=\"\"\n",
        "  for cont in ejercicio12:\n",
        "    valor=len(cont)\n",
        "    values.append(valor)\n",
        "  dic=dict(zip(ejercicio12,values))\n",
        "  print(f\"Solución del ejercicio: {dic}\")\n",
        "main([\"ad\", \"abc\", \"ab\"])"
      ],
      "metadata": {
        "colab": {
          "base_uri": "https://localhost:8080/"
        },
        "id": "eATueZL37qVL",
        "outputId": "92e7a1f0-9c7a-4f1b-cdb5-b231a3a860e3"
      },
      "execution_count": 35,
      "outputs": [
        {
          "output_type": "stream",
          "name": "stdout",
          "text": [
            "Solución del ejercicio: {'ad': 2, 'abc': 3, 'ab': 2}\n"
          ]
        }
      ]
    }
  ]
}